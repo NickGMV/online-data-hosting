{
 "cells": [
  {
   "cell_type": "markdown",
   "metadata": {},
   "source": [
    "# Logistic Regression\n",
    "\n",
    "Linear regression works best when predicting continuous values, but what happens if we want to predict something which is categorical? This is where classification models come in. Instead of predicting a value, this type of model will instead predict what category a piece of data falls into. \n",
    "\n",
    "One of the simplest types of classification model is logistic regression. Don't be fooled by the name, it is a classification model!\n",
    "\n",
    "In this workbook we will go through how logistic regression works and how a model is built. We will then look at how we interpret and evaluate our models. \n",
    "\n",
    "Again we will be using the college data as our example."
   ]
  },
  {
   "cell_type": "code",
   "execution_count": 1,
   "metadata": {},
   "outputs": [
    {
     "data": {
      "text/html": [
       "<div>\n",
       "<style scoped>\n",
       "    .dataframe tbody tr th:only-of-type {\n",
       "        vertical-align: middle;\n",
       "    }\n",
       "\n",
       "    .dataframe tbody tr th {\n",
       "        vertical-align: top;\n",
       "    }\n",
       "\n",
       "    .dataframe thead th {\n",
       "        text-align: right;\n",
       "    }\n",
       "</style>\n",
       "<table border=\"1\" class=\"dataframe\">\n",
       "  <thead>\n",
       "    <tr style=\"text-align: right;\">\n",
       "      <th></th>\n",
       "      <th>College</th>\n",
       "      <th>Private</th>\n",
       "      <th>Apps</th>\n",
       "      <th>Accept</th>\n",
       "      <th>Enroll</th>\n",
       "      <th>Top10perc</th>\n",
       "      <th>Top25perc</th>\n",
       "      <th>F.Undergrad</th>\n",
       "      <th>P.Undergrad</th>\n",
       "      <th>Outstate</th>\n",
       "      <th>Room.Board</th>\n",
       "      <th>Books</th>\n",
       "      <th>Personal</th>\n",
       "      <th>PhD</th>\n",
       "      <th>Terminal</th>\n",
       "      <th>S.F.Ratio</th>\n",
       "      <th>perc.alumni</th>\n",
       "      <th>Expend</th>\n",
       "      <th>Grad.Rate</th>\n",
       "    </tr>\n",
       "  </thead>\n",
       "  <tbody>\n",
       "    <tr>\n",
       "      <th>0</th>\n",
       "      <td>Abilene Christian University</td>\n",
       "      <td>Yes</td>\n",
       "      <td>1660</td>\n",
       "      <td>1232</td>\n",
       "      <td>721</td>\n",
       "      <td>23</td>\n",
       "      <td>52</td>\n",
       "      <td>2885</td>\n",
       "      <td>537</td>\n",
       "      <td>7440</td>\n",
       "      <td>3300</td>\n",
       "      <td>450</td>\n",
       "      <td>2200</td>\n",
       "      <td>70</td>\n",
       "      <td>78</td>\n",
       "      <td>18.1</td>\n",
       "      <td>12</td>\n",
       "      <td>7041</td>\n",
       "      <td>60</td>\n",
       "    </tr>\n",
       "    <tr>\n",
       "      <th>1</th>\n",
       "      <td>Adelphi University</td>\n",
       "      <td>Yes</td>\n",
       "      <td>2186</td>\n",
       "      <td>1924</td>\n",
       "      <td>512</td>\n",
       "      <td>16</td>\n",
       "      <td>29</td>\n",
       "      <td>2683</td>\n",
       "      <td>1227</td>\n",
       "      <td>12280</td>\n",
       "      <td>6450</td>\n",
       "      <td>750</td>\n",
       "      <td>1500</td>\n",
       "      <td>29</td>\n",
       "      <td>30</td>\n",
       "      <td>12.2</td>\n",
       "      <td>16</td>\n",
       "      <td>10527</td>\n",
       "      <td>56</td>\n",
       "    </tr>\n",
       "    <tr>\n",
       "      <th>2</th>\n",
       "      <td>Adrian College</td>\n",
       "      <td>Yes</td>\n",
       "      <td>1428</td>\n",
       "      <td>1097</td>\n",
       "      <td>336</td>\n",
       "      <td>22</td>\n",
       "      <td>50</td>\n",
       "      <td>1036</td>\n",
       "      <td>99</td>\n",
       "      <td>11250</td>\n",
       "      <td>3750</td>\n",
       "      <td>400</td>\n",
       "      <td>1165</td>\n",
       "      <td>53</td>\n",
       "      <td>66</td>\n",
       "      <td>12.9</td>\n",
       "      <td>30</td>\n",
       "      <td>8735</td>\n",
       "      <td>54</td>\n",
       "    </tr>\n",
       "    <tr>\n",
       "      <th>3</th>\n",
       "      <td>Agnes Scott College</td>\n",
       "      <td>Yes</td>\n",
       "      <td>417</td>\n",
       "      <td>349</td>\n",
       "      <td>137</td>\n",
       "      <td>60</td>\n",
       "      <td>89</td>\n",
       "      <td>510</td>\n",
       "      <td>63</td>\n",
       "      <td>12960</td>\n",
       "      <td>5450</td>\n",
       "      <td>450</td>\n",
       "      <td>875</td>\n",
       "      <td>92</td>\n",
       "      <td>97</td>\n",
       "      <td>7.7</td>\n",
       "      <td>37</td>\n",
       "      <td>19016</td>\n",
       "      <td>59</td>\n",
       "    </tr>\n",
       "    <tr>\n",
       "      <th>4</th>\n",
       "      <td>Alaska Pacific University</td>\n",
       "      <td>Yes</td>\n",
       "      <td>193</td>\n",
       "      <td>146</td>\n",
       "      <td>55</td>\n",
       "      <td>16</td>\n",
       "      <td>44</td>\n",
       "      <td>249</td>\n",
       "      <td>869</td>\n",
       "      <td>7560</td>\n",
       "      <td>4120</td>\n",
       "      <td>800</td>\n",
       "      <td>1500</td>\n",
       "      <td>76</td>\n",
       "      <td>72</td>\n",
       "      <td>11.9</td>\n",
       "      <td>2</td>\n",
       "      <td>10922</td>\n",
       "      <td>15</td>\n",
       "    </tr>\n",
       "  </tbody>\n",
       "</table>\n",
       "</div>"
      ],
      "text/plain": [
       "                        College Private  Apps  Accept  Enroll  Top10perc  \\\n",
       "0  Abilene Christian University     Yes  1660    1232     721         23   \n",
       "1            Adelphi University     Yes  2186    1924     512         16   \n",
       "2                Adrian College     Yes  1428    1097     336         22   \n",
       "3           Agnes Scott College     Yes   417     349     137         60   \n",
       "4     Alaska Pacific University     Yes   193     146      55         16   \n",
       "\n",
       "   Top25perc  F.Undergrad  P.Undergrad  Outstate  Room.Board  Books  Personal  \\\n",
       "0         52         2885          537      7440        3300    450      2200   \n",
       "1         29         2683         1227     12280        6450    750      1500   \n",
       "2         50         1036           99     11250        3750    400      1165   \n",
       "3         89          510           63     12960        5450    450       875   \n",
       "4         44          249          869      7560        4120    800      1500   \n",
       "\n",
       "   PhD  Terminal  S.F.Ratio  perc.alumni  Expend  Grad.Rate  \n",
       "0   70        78       18.1           12    7041         60  \n",
       "1   29        30       12.2           16   10527         56  \n",
       "2   53        66       12.9           30    8735         54  \n",
       "3   92        97        7.7           37   19016         59  \n",
       "4   76        72       11.9            2   10922         15  "
      ]
     },
     "execution_count": 1,
     "metadata": {},
     "output_type": "execute_result"
    }
   ],
   "source": [
    "import pandas as pd\n",
    "import warnings\n",
    "import matplotlib.pyplot as plt\n",
    "warnings.filterwarnings(\"ignore\")\n",
    "\n",
    "college=pd.read_csv('College_data.csv')\n",
    "college.head()"
   ]
  },
  {
   "cell_type": "markdown",
   "metadata": {},
   "source": [
    "## What is it?\n",
    "\n",
    "Logistic regression is an example of a classification model which tries to predict what category a piece of data falls into. Typically logistic regression models predict binary outcomes (e.g. yes/no, true/false, etc), if you want to predict more than two outcomes you will need to look into other types of model. \n",
    "\n",
    "Logistic Regression is actually built upon Linear Regression (hence why it is called Logistic <i>Regression</i>).\n",
    "\n",
    "Like with Linear Regression, we can use Logistic Regression to make a prediction, or investigate how important different factors are in determining their category.\n",
    "\n",
    "## How does it work?\n",
    "\n",
    "As it is a supervised learning model, Logistic Regression takes as an input some data and what categories they fall into. Using this information, the model will then try and work out the makeup of those categories, i.e. why do these data points belong to that category or label?\n",
    "\n",
    "Once it has identified this pattern, the model can be used to predict which category a new piece of data falls into. \n",
    "\n",
    "For example, imagine we had the outcomes from an exam (pass/fail) and some information about the people sitting it (e.g. hours spent revising, hours slept the night before and what they scored on a previous test). Logistic Regression would then use the given information and try and work out what is important in determining whether someone passed or failed. This model can then be used to predict the outcome of a new student who sits the exam late, or determine which of those factors was most important in predicting if someone will pass an exam.\n",
    "\n",
    "## Building a model\n",
    "\n",
    "To demonstrate how Logistic Regression works, let's build a model using our college data. Previously we built a model which predicted garduation rate, this time we will predict if a college is going to be above or below average in terms of their graduation rate:\n",
    "\n",
    "Before we can build this model, we need to set up the data. The first step is to calculate what the average graduation rate is:"
   ]
  },
  {
   "cell_type": "code",
   "execution_count": 2,
   "metadata": {},
   "outputs": [
    {
     "name": "stdout",
     "output_type": "stream",
     "text": [
      "65.39561855670104\n"
     ]
    }
   ],
   "source": [
    "cut_off=college['Grad.Rate'].mean()\n",
    "print(cut_off)"
   ]
  },
  {
   "cell_type": "markdown",
   "metadata": {},
   "source": [
    "We now know that the average graduation rate in this dataset is around 65.4%, any college greater than that will be labelled `above_average`. However, Logistic Regression models require the output to be 1 or 0 (i.e. True of False), so we let's apply a function to our data set that will give the label `1` to any college with above average graduation rate and `0` otherwise:"
   ]
  },
  {
   "cell_type": "code",
   "execution_count": 3,
   "metadata": {},
   "outputs": [
    {
     "data": {
      "text/html": [
       "<div>\n",
       "<style scoped>\n",
       "    .dataframe tbody tr th:only-of-type {\n",
       "        vertical-align: middle;\n",
       "    }\n",
       "\n",
       "    .dataframe tbody tr th {\n",
       "        vertical-align: top;\n",
       "    }\n",
       "\n",
       "    .dataframe thead th {\n",
       "        text-align: right;\n",
       "    }\n",
       "</style>\n",
       "<table border=\"1\" class=\"dataframe\">\n",
       "  <thead>\n",
       "    <tr style=\"text-align: right;\">\n",
       "      <th></th>\n",
       "      <th>College</th>\n",
       "      <th>Private</th>\n",
       "      <th>Apps</th>\n",
       "      <th>Accept</th>\n",
       "      <th>Enroll</th>\n",
       "      <th>Top10perc</th>\n",
       "      <th>Top25perc</th>\n",
       "      <th>F.Undergrad</th>\n",
       "      <th>P.Undergrad</th>\n",
       "      <th>Outstate</th>\n",
       "      <th>Room.Board</th>\n",
       "      <th>Books</th>\n",
       "      <th>Personal</th>\n",
       "      <th>PhD</th>\n",
       "      <th>Terminal</th>\n",
       "      <th>S.F.Ratio</th>\n",
       "      <th>perc.alumni</th>\n",
       "      <th>Expend</th>\n",
       "      <th>Grad.Rate</th>\n",
       "      <th>above_average</th>\n",
       "    </tr>\n",
       "  </thead>\n",
       "  <tbody>\n",
       "    <tr>\n",
       "      <th>0</th>\n",
       "      <td>Abilene Christian University</td>\n",
       "      <td>Yes</td>\n",
       "      <td>1660</td>\n",
       "      <td>1232</td>\n",
       "      <td>721</td>\n",
       "      <td>23</td>\n",
       "      <td>52</td>\n",
       "      <td>2885</td>\n",
       "      <td>537</td>\n",
       "      <td>7440</td>\n",
       "      <td>3300</td>\n",
       "      <td>450</td>\n",
       "      <td>2200</td>\n",
       "      <td>70</td>\n",
       "      <td>78</td>\n",
       "      <td>18.1</td>\n",
       "      <td>12</td>\n",
       "      <td>7041</td>\n",
       "      <td>60</td>\n",
       "      <td>0</td>\n",
       "    </tr>\n",
       "    <tr>\n",
       "      <th>1</th>\n",
       "      <td>Adelphi University</td>\n",
       "      <td>Yes</td>\n",
       "      <td>2186</td>\n",
       "      <td>1924</td>\n",
       "      <td>512</td>\n",
       "      <td>16</td>\n",
       "      <td>29</td>\n",
       "      <td>2683</td>\n",
       "      <td>1227</td>\n",
       "      <td>12280</td>\n",
       "      <td>6450</td>\n",
       "      <td>750</td>\n",
       "      <td>1500</td>\n",
       "      <td>29</td>\n",
       "      <td>30</td>\n",
       "      <td>12.2</td>\n",
       "      <td>16</td>\n",
       "      <td>10527</td>\n",
       "      <td>56</td>\n",
       "      <td>0</td>\n",
       "    </tr>\n",
       "    <tr>\n",
       "      <th>2</th>\n",
       "      <td>Adrian College</td>\n",
       "      <td>Yes</td>\n",
       "      <td>1428</td>\n",
       "      <td>1097</td>\n",
       "      <td>336</td>\n",
       "      <td>22</td>\n",
       "      <td>50</td>\n",
       "      <td>1036</td>\n",
       "      <td>99</td>\n",
       "      <td>11250</td>\n",
       "      <td>3750</td>\n",
       "      <td>400</td>\n",
       "      <td>1165</td>\n",
       "      <td>53</td>\n",
       "      <td>66</td>\n",
       "      <td>12.9</td>\n",
       "      <td>30</td>\n",
       "      <td>8735</td>\n",
       "      <td>54</td>\n",
       "      <td>0</td>\n",
       "    </tr>\n",
       "    <tr>\n",
       "      <th>3</th>\n",
       "      <td>Agnes Scott College</td>\n",
       "      <td>Yes</td>\n",
       "      <td>417</td>\n",
       "      <td>349</td>\n",
       "      <td>137</td>\n",
       "      <td>60</td>\n",
       "      <td>89</td>\n",
       "      <td>510</td>\n",
       "      <td>63</td>\n",
       "      <td>12960</td>\n",
       "      <td>5450</td>\n",
       "      <td>450</td>\n",
       "      <td>875</td>\n",
       "      <td>92</td>\n",
       "      <td>97</td>\n",
       "      <td>7.7</td>\n",
       "      <td>37</td>\n",
       "      <td>19016</td>\n",
       "      <td>59</td>\n",
       "      <td>0</td>\n",
       "    </tr>\n",
       "    <tr>\n",
       "      <th>4</th>\n",
       "      <td>Alaska Pacific University</td>\n",
       "      <td>Yes</td>\n",
       "      <td>193</td>\n",
       "      <td>146</td>\n",
       "      <td>55</td>\n",
       "      <td>16</td>\n",
       "      <td>44</td>\n",
       "      <td>249</td>\n",
       "      <td>869</td>\n",
       "      <td>7560</td>\n",
       "      <td>4120</td>\n",
       "      <td>800</td>\n",
       "      <td>1500</td>\n",
       "      <td>76</td>\n",
       "      <td>72</td>\n",
       "      <td>11.9</td>\n",
       "      <td>2</td>\n",
       "      <td>10922</td>\n",
       "      <td>15</td>\n",
       "      <td>0</td>\n",
       "    </tr>\n",
       "  </tbody>\n",
       "</table>\n",
       "</div>"
      ],
      "text/plain": [
       "                        College Private  Apps  Accept  Enroll  Top10perc  \\\n",
       "0  Abilene Christian University     Yes  1660    1232     721         23   \n",
       "1            Adelphi University     Yes  2186    1924     512         16   \n",
       "2                Adrian College     Yes  1428    1097     336         22   \n",
       "3           Agnes Scott College     Yes   417     349     137         60   \n",
       "4     Alaska Pacific University     Yes   193     146      55         16   \n",
       "\n",
       "   Top25perc  F.Undergrad  P.Undergrad  Outstate  Room.Board  Books  Personal  \\\n",
       "0         52         2885          537      7440        3300    450      2200   \n",
       "1         29         2683         1227     12280        6450    750      1500   \n",
       "2         50         1036           99     11250        3750    400      1165   \n",
       "3         89          510           63     12960        5450    450       875   \n",
       "4         44          249          869      7560        4120    800      1500   \n",
       "\n",
       "   PhD  Terminal  S.F.Ratio  perc.alumni  Expend  Grad.Rate  above_average  \n",
       "0   70        78       18.1           12    7041         60              0  \n",
       "1   29        30       12.2           16   10527         56              0  \n",
       "2   53        66       12.9           30    8735         54              0  \n",
       "3   92        97        7.7           37   19016         59              0  \n",
       "4   76        72       11.9            2   10922         15              0  "
      ]
     },
     "execution_count": 3,
     "metadata": {},
     "output_type": "execute_result"
    }
   ],
   "source": [
    "college['above_average']=college['Grad.Rate'].apply(lambda x: 1 if x>= cut_off else 0)\n",
    "college.head()"
   ]
  },
  {
   "cell_type": "markdown",
   "metadata": {},
   "source": [
    "With this new column in our dataset we now have a target variable which can be used in a Logistic Regression model.\n",
    "\n",
    "With our Linear Regression model we saw that a college's percentage of students that came from the top 10% of their high school class (`Top10perc`) was an important feature, so let's use that again for our Logistic Regression model.\n",
    "\n",
    "To build the model, we start by importing the relevant code from sci-kit learn.\n",
    "\n",
    "From there, we build our model in the exact same way as before:"
   ]
  },
  {
   "cell_type": "code",
   "execution_count": 4,
   "metadata": {},
   "outputs": [],
   "source": [
    "from sklearn.linear_model import LogisticRegression\n",
    "\n",
    "logreg=LogisticRegression()"
   ]
  },
  {
   "cell_type": "markdown",
   "metadata": {},
   "source": [
    "Like before, we also need to fit some data to the model. Our input is going to be an array containing each colleges `Top10perc` and the target series will be whether they are `above_average`. \n",
    "\n",
    "Again, we will use `train_test_split` to build our train and test sets. Note, train_test_split randommly assigns data points to both sets, but this runs a risk that our target categories will not be evenly distributed across both, which can impact the model. To avoid this issue, we add the parameter `stratify=y` to ensure that both the train and test sets have an equal distribution of both target labels."
   ]
  },
  {
   "cell_type": "code",
   "execution_count": 5,
   "metadata": {},
   "outputs": [
    {
     "data": {
      "text/plain": [
       "LogisticRegression()"
      ]
     },
     "execution_count": 5,
     "metadata": {},
     "output_type": "execute_result"
    }
   ],
   "source": [
    "from sklearn.model_selection import train_test_split\n",
    "\n",
    "X=college[['Top10perc']]\n",
    "y=college.above_average\n",
    "\n",
    "X_train, X_test, y_train, y_test = train_test_split(X,y, stratify=y, train_size=0.8,random_state=100)\n",
    "logreg.fit(X_train,y_train)"
   ]
  },
  {
   "cell_type": "markdown",
   "metadata": {},
   "source": [
    "And that is it!\n",
    "\n",
    "There are other parameters you can explore, which we will not be covering that you can read in the <a href='https://scikit-learn.org/stable/modules/generated/sklearn.linear_model.LogisticRegression.html'>documentation</a>.\n",
    "\n",
    "Like with Linear Regression we can investigate the intercept and coefficients, as well as return a performance score:"
   ]
  },
  {
   "cell_type": "code",
   "execution_count": 6,
   "metadata": {},
   "outputs": [
    {
     "name": "stdout",
     "output_type": "stream",
     "text": [
      "Intercept: -1.6627562760193229\n",
      "Coefficient: [0.06314022]\n",
      "Score: 0.6602564102564102\n"
     ]
    }
   ],
   "source": [
    "print('Intercept: '+str(logreg.intercept_[0]))\n",
    "print('Coefficient: '+ str(logreg.coef_[0]))\n",
    "print('Score: ' + str(logreg.score(X_test,y_test)))"
   ]
  },
  {
   "cell_type": "markdown",
   "metadata": {},
   "source": [
    "What do these values mean?\n",
    "\n",
    "The <b>intercept</b> shows the <i>logarithm  of the odds</i> of a college being predicted as having an above average graduation rate if it had no students from the top 10 percent of their high school class. The <b>coefficient</b> shows how much each feature affects the <i>logarithm of the odds</i> of a college being predicted as having an above average graduation rate.\n",
    "\n",
    "Sound confusing? We will be exploring this further in the workshop, for now, the bigger the coefficient, the more influential it is in predicting the outcome.\n",
    "\n",
    "With Logistic Regression, the <b>score</b> returns the <i>accuracy</i> of the model, i.e. what proportion of the predictions the model made were correct. This model was 66% accurate when working with the test data.\n",
    "\n",
    "In the workshop we will explore performance metrics further when evaluating our models."
   ]
  },
  {
   "cell_type": "markdown",
   "metadata": {},
   "source": [
    "### Practice\n",
    "\n",
    "Load in the Ames housing data you used earlier. \n",
    "\n",
    "<ol>\n",
    "    <li> Create a new column called above_average that assigns a value of 1 if the sale price is greater than the mean sale price and 0 if otherise.</li>\n",
    "    <li> Build a logistic regression model that predicts if a house has an above average sale price based on the number of full bathrooms it has.</li>\n",
    "    <li> Print the intercept, coefficient and score of the model. </li>\n",
    "</ol>"
   ]
  },
  {
   "cell_type": "code",
   "execution_count": 7,
   "metadata": {},
   "outputs": [
    {
     "data": {
      "text/html": [
       "<div>\n",
       "<style scoped>\n",
       "    .dataframe tbody tr th:only-of-type {\n",
       "        vertical-align: middle;\n",
       "    }\n",
       "\n",
       "    .dataframe tbody tr th {\n",
       "        vertical-align: top;\n",
       "    }\n",
       "\n",
       "    .dataframe thead th {\n",
       "        text-align: right;\n",
       "    }\n",
       "</style>\n",
       "<table border=\"1\" class=\"dataframe\">\n",
       "  <thead>\n",
       "    <tr style=\"text-align: right;\">\n",
       "      <th></th>\n",
       "      <th>SalePrice</th>\n",
       "      <th>LotFrontage</th>\n",
       "      <th>LotArea</th>\n",
       "      <th>Utilities</th>\n",
       "      <th>Neighborhood</th>\n",
       "      <th>YearBuilt</th>\n",
       "      <th>FullBath</th>\n",
       "      <th>HalfBath</th>\n",
       "      <th>BedroomAbvGr</th>\n",
       "      <th>GarageCars</th>\n",
       "      <th>GarageArea</th>\n",
       "    </tr>\n",
       "  </thead>\n",
       "  <tbody>\n",
       "    <tr>\n",
       "      <th>0</th>\n",
       "      <td>208500</td>\n",
       "      <td>65.0</td>\n",
       "      <td>8450</td>\n",
       "      <td>AllPub</td>\n",
       "      <td>CollgCr</td>\n",
       "      <td>2003</td>\n",
       "      <td>2</td>\n",
       "      <td>1</td>\n",
       "      <td>3</td>\n",
       "      <td>2</td>\n",
       "      <td>548</td>\n",
       "    </tr>\n",
       "    <tr>\n",
       "      <th>1</th>\n",
       "      <td>181500</td>\n",
       "      <td>80.0</td>\n",
       "      <td>9600</td>\n",
       "      <td>AllPub</td>\n",
       "      <td>Veenker</td>\n",
       "      <td>1976</td>\n",
       "      <td>2</td>\n",
       "      <td>0</td>\n",
       "      <td>3</td>\n",
       "      <td>2</td>\n",
       "      <td>460</td>\n",
       "    </tr>\n",
       "    <tr>\n",
       "      <th>2</th>\n",
       "      <td>223500</td>\n",
       "      <td>68.0</td>\n",
       "      <td>11250</td>\n",
       "      <td>AllPub</td>\n",
       "      <td>CollgCr</td>\n",
       "      <td>2001</td>\n",
       "      <td>2</td>\n",
       "      <td>1</td>\n",
       "      <td>3</td>\n",
       "      <td>2</td>\n",
       "      <td>608</td>\n",
       "    </tr>\n",
       "    <tr>\n",
       "      <th>3</th>\n",
       "      <td>140000</td>\n",
       "      <td>60.0</td>\n",
       "      <td>9550</td>\n",
       "      <td>AllPub</td>\n",
       "      <td>Crawfor</td>\n",
       "      <td>1915</td>\n",
       "      <td>1</td>\n",
       "      <td>0</td>\n",
       "      <td>3</td>\n",
       "      <td>3</td>\n",
       "      <td>642</td>\n",
       "    </tr>\n",
       "    <tr>\n",
       "      <th>4</th>\n",
       "      <td>250000</td>\n",
       "      <td>84.0</td>\n",
       "      <td>14260</td>\n",
       "      <td>AllPub</td>\n",
       "      <td>NoRidge</td>\n",
       "      <td>2000</td>\n",
       "      <td>2</td>\n",
       "      <td>1</td>\n",
       "      <td>4</td>\n",
       "      <td>3</td>\n",
       "      <td>836</td>\n",
       "    </tr>\n",
       "  </tbody>\n",
       "</table>\n",
       "</div>"
      ],
      "text/plain": [
       "   SalePrice  LotFrontage  LotArea Utilities Neighborhood  YearBuilt  \\\n",
       "0     208500         65.0     8450    AllPub      CollgCr       2003   \n",
       "1     181500         80.0     9600    AllPub      Veenker       1976   \n",
       "2     223500         68.0    11250    AllPub      CollgCr       2001   \n",
       "3     140000         60.0     9550    AllPub      Crawfor       1915   \n",
       "4     250000         84.0    14260    AllPub      NoRidge       2000   \n",
       "\n",
       "   FullBath  HalfBath  BedroomAbvGr  GarageCars  GarageArea  \n",
       "0         2         1             3           2         548  \n",
       "1         2         0             3           2         460  \n",
       "2         2         1             3           2         608  \n",
       "3         1         0             3           3         642  \n",
       "4         2         1             4           3         836  "
      ]
     },
     "execution_count": 7,
     "metadata": {},
     "output_type": "execute_result"
    }
   ],
   "source": [
    "house_df=pd.read_csv('Ames_houses.csv')\n",
    "house_df.head()"
   ]
  },
  {
   "cell_type": "code",
   "execution_count": 8,
   "metadata": {},
   "outputs": [],
   "source": [
    "#A:"
   ]
  },
  {
   "cell_type": "markdown",
   "metadata": {},
   "source": [
    "## Multiple features\n",
    "\n",
    "A logistic regression model can take on as many features as you would like, with each added potentially giving more detail to the model. However, beware of over fitting and to check this we should be using train_test_split.\n",
    "\n",
    "Let's pull all this together and build a model which predicts if a college has an above average graduation rate based on its expenditure per student and what percentage of students came from the top 10% of thier high school class."
   ]
  },
  {
   "cell_type": "code",
   "execution_count": 9,
   "metadata": {},
   "outputs": [],
   "source": [
    "X2=college[['Top10perc','Expend']]\n",
    "y2=college.above_average"
   ]
  },
  {
   "cell_type": "code",
   "execution_count": 10,
   "metadata": {},
   "outputs": [],
   "source": [
    "X_train2, X_test2, y_train2, y_test2 = train_test_split(X2,y2, stratify=y2, train_size=0.8,random_state=100)"
   ]
  },
  {
   "cell_type": "code",
   "execution_count": 11,
   "metadata": {},
   "outputs": [
    {
     "data": {
      "text/plain": [
       "LogisticRegression()"
      ]
     },
     "execution_count": 11,
     "metadata": {},
     "output_type": "execute_result"
    }
   ],
   "source": [
    "# build model\n",
    "\n",
    "logreg2=LogisticRegression()\n",
    "logreg2.fit(X_train2, y_train2)"
   ]
  },
  {
   "cell_type": "code",
   "execution_count": 12,
   "metadata": {},
   "outputs": [
    {
     "name": "stdout",
     "output_type": "stream",
     "text": [
      "Intercept: -2.158725236395163\n",
      "Coefficient: [5.11196133e-02 8.87342036e-05]\n",
      "Score: 0.6666666666666666\n"
     ]
    }
   ],
   "source": [
    "print('Intercept: '+str(logreg2.intercept_[0]))\n",
    "print('Coefficient: '+ str(logreg2.coef_[0]))\n",
    "print('Score: ' + str(logreg2.score(X_test2,y_test2)))"
   ]
  },
  {
   "cell_type": "markdown",
   "metadata": {},
   "source": [
    "Comparing this to our previous model, we can see that the score is <i>slightly</i> better, meaning this model is a little more accurate.\n",
    "\n",
    "The order of the coefficients is the same as the order they are imported, so the first is `Top10perc` and the secons is `Expend`. `Top10perc` has the larger coefficient, so is more influential in predicting if a college has an above average graduation rate.\n",
    "\n",
    "### Practice\n",
    "\n",
    "Using the data from the previous workbook, build a model that will predict if a house has an above average sale price based off number of bedrooms, number of bathrooms and how many cars it can fit into the garage. Which feature is most influential in predicting if a house is above average sale price?"
   ]
  },
  {
   "cell_type": "code",
   "execution_count": 13,
   "metadata": {},
   "outputs": [],
   "source": [
    "#A:"
   ]
  },
  {
   "cell_type": "markdown",
   "metadata": {},
   "source": [
    "## Making a prediction\n",
    "\n",
    "Building a model means nothing unless we put it to some use! \n",
    "\n",
    "Imagine we have a college not included in the original dataset, let's use our model trained on the existing data to predict if it will have an above average graduation rate.\n",
    "\n",
    "This new college reports that 17% of their students come from the top 10% of their high school classes. Like with Linear Regression models, we use the `.predict()` function:"
   ]
  },
  {
   "cell_type": "code",
   "execution_count": 14,
   "metadata": {},
   "outputs": [
    {
     "data": {
      "text/plain": [
       "array([0], dtype=int64)"
      ]
     },
     "execution_count": 14,
     "metadata": {},
     "output_type": "execute_result"
    }
   ],
   "source": [
    "logreg.predict([[17]])"
   ]
  },
  {
   "cell_type": "markdown",
   "metadata": {},
   "source": [
    "Our model has returned 0 (or false), this means that based on the information provided, this college will have a below average graduation rate.\n",
    "\n",
    "But how close was it to being predicted above average?\n",
    "\n",
    "Logistic Regression models assign a probability of a data point belonging to a particular category (or label). Given there are only two options, the category with probability greater than 50% will be the one predicted.\n",
    "\n",
    "Using the `.predict_proba()` function we can see what the probabilities were:"
   ]
  },
  {
   "cell_type": "code",
   "execution_count": 15,
   "metadata": {},
   "outputs": [
    {
     "data": {
      "text/plain": [
       "array([[0.64322115, 0.35677885]])"
      ]
     },
     "execution_count": 15,
     "metadata": {},
     "output_type": "execute_result"
    }
   ],
   "source": [
    "logreg.predict_proba([[17]])"
   ]
  },
  {
   "cell_type": "markdown",
   "metadata": {},
   "source": [
    "This means that there is a 64.3% chance of this college having a below average graduation rate and 35.7% chance of it being above average. \n",
    "\n",
    "Let's now imagine that this college was spending $38392 per student, how would this affect the outcome?"
   ]
  },
  {
   "cell_type": "code",
   "execution_count": 16,
   "metadata": {},
   "outputs": [
    {
     "data": {
      "text/plain": [
       "array([1], dtype=int64)"
      ]
     },
     "execution_count": 16,
     "metadata": {},
     "output_type": "execute_result"
    }
   ],
   "source": [
    "logreg2.predict([[17,38392]])"
   ]
  },
  {
   "cell_type": "markdown",
   "metadata": {},
   "source": [
    "With this new information, the second model has decided that this college would now be above average on graduation rate."
   ]
  },
  {
   "cell_type": "code",
   "execution_count": 17,
   "metadata": {},
   "outputs": [
    {
     "data": {
      "text/plain": [
       "array([[0.10745625, 0.89254375]])"
      ]
     },
     "execution_count": 17,
     "metadata": {},
     "output_type": "execute_result"
    }
   ],
   "source": [
    "logreg2.predict_proba([[17,38392]])"
   ]
  },
  {
   "cell_type": "markdown",
   "metadata": {},
   "source": [
    "Our second model has returned an 89.2% chance of this college being assigned the label 'above average' on graduation rates."
   ]
  },
  {
   "cell_type": "markdown",
   "metadata": {},
   "source": [
    "### Practice\n",
    "\n",
    "A new house comes onto the market with 2 full bathrooms, 3 bedrooms and a garage that can fit 2 cars, what label does each model you have built assign to this house? \n",
    "\n",
    "Examine the probabilities the models have assigned, which model returned the greater probability that this house would be above average?"
   ]
  },
  {
   "cell_type": "code",
   "execution_count": 18,
   "metadata": {},
   "outputs": [],
   "source": [
    "#A:"
   ]
  },
  {
   "cell_type": "markdown",
   "metadata": {},
   "source": [
    "## How does Logistic Regression work?\n",
    "\n",
    "We have seen how to build a Logistic Regression model, but how does it make its prediction on which label to assign a data point?\n",
    "\n",
    "Going back to our first model, predicting if a college has an `above_average` graduation rate based off its `Top10perc`, we will start by plotting these two factors against each other."
   ]
  },
  {
   "cell_type": "code",
   "execution_count": 19,
   "metadata": {},
   "outputs": [
    {
     "data": {
      "image/png": "[encoded data removed]",
      "text/plain": [
       "<Figure size 864x576 with 1 Axes>"
      ]
     },
     "metadata": {
      "needs_background": "light"
     },
     "output_type": "display_data"
    }
   ],
   "source": [
    "fig,ax=plt.subplots(figsize=(12,8))\n",
    "ax.plot(college.Top10perc,college.above_average,'.')\n",
    "ax.set_title('College Top10perc vs Above Average')\n",
    "ax.set_xlabel('Top10perc')\n",
    "ax.set_ylabel('Above Average (1 if true)');"
   ]
  },
  {
   "cell_type": "markdown",
   "metadata": {},
   "source": [
    "We can clearly see that the data forms two lines, one at the top for above average colleges and one at the bottom for the rest (as the outcome is binary, there should be no values in between).\n",
    "\n",
    "Using this data, we want to find out at which value of `Top10perc` a college will start becoming 'above average' in terms of their graduation rate. \n",
    "\n",
    "Earlier we said that Logistic Regression is built upon <b>Linear Regression</b>, so our first step in understanding Logistic Regression is to build a Linear Regression model."
   ]
  },
  {
   "cell_type": "code",
   "execution_count": 22,
   "metadata": {},
   "outputs": [
    {
     "data": {
      "text/plain": [
       "LinearRegression()"
      ]
     },
     "execution_count": 22,
     "metadata": {},
     "output_type": "execute_result"
    }
   ],
   "source": [
    "from sklearn.linear_model import LinearRegression\n",
    "\n",
    "\n",
    "y=college.above_average\n",
    "X=college[['Top10perc']]\n",
    "\n",
    "lr=LinearRegression()\n",
    "lr.fit(X,y)"
   ]
  },
  {
   "cell_type": "code",
   "execution_count": 23,
   "metadata": {},
   "outputs": [
    {
     "data": {
      "image/png": "[encoded data removed]",
      "text/plain": [
       "<Figure size 864x576 with 1 Axes>"
      ]
     },
     "metadata": {
      "needs_background": "light"
     },
     "output_type": "display_data"
    }
   ],
   "source": [
    "import numpy as np\n",
    "\n",
    "fig,ax=plt.subplots(figsize=(12,8))\n",
    "ax.plot(college.Top10perc,college.above_average,'.',label='College output')\n",
    "ax.set_title('College Top10perc vs Above Average')\n",
    "ax.set_xlabel('Top10perc')\n",
    "ax.set_ylabel('Above Average (1 if true)')\n",
    "ax.set_ylim(-0.1,1.1)\n",
    "X_plot=np.linspace(0,100,200)\n",
    "ax.plot(X_plot,X_plot*lr.coef_[0]+lr.intercept_,color='r',label='Regression line')\n",
    "ax.legend();"
   ]
  },
  {
   "cell_type": "markdown",
   "metadata": {},
   "source": [
    "Through building a Linear Regression model we can see the regression line that describes the pattern in the data, while this model is not a good fit for our data in itself, it does provide a useful insight- at what value of x (`Top10perc`) does the label change from `0` to `1`?\n",
    "\n",
    "This happens when the trend line intercepts y=0.5 (the halfway point between the two labels)."
   ]
  },
  {
   "cell_type": "code",
   "execution_count": 24,
   "metadata": {},
   "outputs": [
    {
     "data": {
      "image/png": "[encoded data removed]",
      "text/plain": [
       "<Figure size 864x576 with 1 Axes>"
      ]
     },
     "metadata": {
      "needs_background": "light"
     },
     "output_type": "display_data"
    }
   ],
   "source": [
    "fig,ax=plt.subplots(figsize=(12,8))\n",
    "ax.plot(college.Top10perc,college.above_average,'.',label='College output')\n",
    "ax.set_title('College Top10perc vs Above Average')\n",
    "ax.set_xlabel('Top10perc')\n",
    "ax.set_ylabel('Above Average (1 if true)')\n",
    "ax.set_ylim(-0.1,1.1)\n",
    "X_plot=np.linspace(0,100,200)\n",
    "ax.plot(X_plot,X_plot*lr.coef_[0]+lr.intercept_,color='r',label='Regression line')\n",
    "ax.plot(X_plot,[0.5 for p in range(len(X_plot))],color='black',linestyle='dashed',label='y=0.5')\n",
    "ax.legend();"
   ]
  },
  {
   "cell_type": "markdown",
   "metadata": {},
   "source": [
    "So, how do we find out what the value of `Top10perc` is when y=0.5?\n",
    "\n",
    "Recall from the previous section that the formula for a linear regression is:\n",
    "\n",
    "<p style=font-size:24pt>$\\hat{y}$ = $\\beta$$_0$ + $\\beta$$_1$$x$$_1$</p> \n",
    "\n",
    "Where $\\beta$$_0$ is the regression lines intercept and $\\beta$$_1$ is the coefficient.\n",
    "\n",
    "We can easily find out what $\\beta$$_0$ and $\\beta$$_1$ are from our model, therefore we can easily rewrite this formula to find the value of x (`Top10perc`) when y=0.5:\n",
    "\n",
    "<p style=font-size:24pt>$x$ = $\\frac{0.5 - \\beta_0}{\\beta_1}$ </p> \n",
    "\n",
    "Using the values from our model:"
   ]
  },
  {
   "cell_type": "code",
   "execution_count": 25,
   "metadata": {},
   "outputs": [
    {
     "name": "stdout",
     "output_type": "stream",
     "text": [
      "Intercept: 0.17793798290662027\n",
      "Coefficient: 0.011536167317532361\n"
     ]
    }
   ],
   "source": [
    "print('Intercept: ' + str(lr.intercept_))\n",
    "print('Coefficient: ' + str(lr.coef_[0]))"
   ]
  },
  {
   "cell_type": "code",
   "execution_count": 26,
   "metadata": {},
   "outputs": [
    {
     "name": "stdout",
     "output_type": "stream",
     "text": [
      "27.91759240557463\n"
     ]
    }
   ],
   "source": [
    "threshold_linear=(0.5-lr.intercept_)/lr.coef_[0]\n",
    "print(threshold_linear)"
   ]
  },
  {
   "cell_type": "markdown",
   "metadata": {},
   "source": [
    "According to our Linear Regression model, a college with more than 27.9% of their students coming from the top 10% of their high schools will be predicted as being above average.\n",
    "\n",
    "Let's add this to our diagram:"
   ]
  },
  {
   "cell_type": "code",
   "execution_count": 27,
   "metadata": {},
   "outputs": [
    {
     "data": {
      "image/png": "[encoded data removed]",
      "text/plain": [
       "<Figure size 864x576 with 1 Axes>"
      ]
     },
     "metadata": {
      "needs_background": "light"
     },
     "output_type": "display_data"
    }
   ],
   "source": [
    "fig,ax=plt.subplots(figsize=(12,8))\n",
    "ax.plot(college.Top10perc,college.above_average,'.',label='College output')\n",
    "ax.set_title('College Top10perc vs Above Average')\n",
    "ax.set_xlabel('Top10perc')\n",
    "ax.set_ylabel('Above Average (1 if true)')\n",
    "ax.set_ylim(-0.1,1.1)\n",
    "X_plot=np.linspace(0,100,200)\n",
    "ax.plot(X_plot,X_plot*lr.coef_[0]+lr.intercept_,color='r',label='Regression line')\n",
    "ax.plot(X_plot,[0.5 for p in range(len(X_plot))],color='black',linestyle='dashed',label='y=0.5')\n",
    "ax.vlines(threshold_linear,ymin=-0.1,ymax=1.1,color='black',linestyle='dashdot',label='Prediction threshold')\n",
    "ax.legend();"
   ]
  },
  {
   "cell_type": "markdown",
   "metadata": {},
   "source": [
    "Anything to left of the line will be predicted as being below average, and anything to the right is above average. \n",
    "\n",
    "Now this isn't perfect. For the below average colleges we can see some have a `Top10perc` greater than 27.9% (these are called false positives, as they have incorrectly been assigned the positive label). Similarly, for the above average colleges, some have `Top10perc` lower than 27.9% (these are called false negatives). All models are likely to make errors, but using a straight line to calculate the threshold where predictions change is inefficient as it is inflexible. Instead, a curve would do a better job.\n",
    "\n",
    "This is the basis of how Logistic Regression works, however, instead of using a straight line to decide where the change in prediction starts, it uses a <b>sigmoid curve</b>, which has the following formula:\n",
    "\n",
    "<p style=font-size:24pt>$p(x)$ = $\\frac{1}{1 + e^{-(\\beta_0 + \\beta_1x)}}$</p> \n",
    "\n",
    "This might look scary, but don't worry (python does the calculations anyway). What it means is that the probability $p(x)$ of assigining a label of 1 to a data point is found using this formula. \n",
    "\n",
    "You may notice that contained within that formula is the equation for linear regression. This is why it is called Logistic <i>Regression</i> as the model will first perform regression analysis on the data, and then use the outputs to calculate the probability of each data point being assigned a label."
   ]
  },
  {
   "cell_type": "code",
   "execution_count": 28,
   "metadata": {},
   "outputs": [
    {
     "data": {
      "image/png": "[encoded data removed]",
      "text/plain": [
       "<Figure size 864x576 with 1 Axes>"
      ]
     },
     "metadata": {
      "needs_background": "light"
     },
     "output_type": "display_data"
    }
   ],
   "source": [
    "import seaborn as sns\n",
    "fig,ax=plt.subplots(figsize=(12,8))\n",
    "sns.regplot(x=college.Top10perc, y=college.above_average, data=college, logistic=True, ci=None,ax=ax)\n",
    "ax.set_title('Sigmoid curve')\n",
    "ax.set_xlabel('Top10perc')\n",
    "ax.set_ylabel('Above Average (1 if true)');"
   ]
  },
  {
   "cell_type": "markdown",
   "metadata": {},
   "source": [
    "The sigmoid curve represents the <i>probabilities</i> of being assigned the label 1 (above average). The advantage of using a curve is that it will better follow the pattern in the data andbe less sensitive to outliers.\n",
    "\n",
    "Let's see what value of `Top10perc` will result in Logistic Regression predicting a college as being above avarage. To work this out we will need to find where the sigmoid curve crosses the line y=0.5 (where $p(x)$=0.5). To do this we will need to rearrange this scary looking formula...\n",
    "\n",
    "<p style=font-size:24pt>$0.5$ = $\\frac{1}{1 + e^{-(\\beta_0 + \\beta_1x)}}$</p> \n",
    "\n",
    "Happily, this simplifies nicely to:\n",
    "\n",
    "<p style=font-size:24pt>$x$ = $\\frac{-\\beta_0}{\\beta_1}$</p> \n",
    "\n",
    "Note, this time $\\beta$$_0$ and $\\beta$$_1$ are the intercept and coefficient from the logistic regression model:"
   ]
  },
  {
   "cell_type": "code",
   "execution_count": 29,
   "metadata": {},
   "outputs": [
    {
     "name": "stdout",
     "output_type": "stream",
     "text": [
      "26.33434276810473\n"
     ]
    }
   ],
   "source": [
    "threshold_logistic=-logreg.intercept_/logreg.coef_[0]\n",
    "print(threshold_logistic[0])"
   ]
  },
  {
   "cell_type": "markdown",
   "metadata": {},
   "source": [
    "Using a sigmoid curve, the threshold of `Top10perc` where the prediction changes is now 26.3%"
   ]
  },
  {
   "cell_type": "code",
   "execution_count": 30,
   "metadata": {},
   "outputs": [
    {
     "data": {
      "image/png": "[encoded data removed]",
      "text/plain": [
       "<Figure size 864x576 with 1 Axes>"
      ]
     },
     "metadata": {
      "needs_background": "light"
     },
     "output_type": "display_data"
    }
   ],
   "source": [
    "import seaborn as sns\n",
    "fig,ax=plt.subplots(figsize=(12,8))\n",
    "sns.regplot(x=college.Top10perc, y=college.above_average, data=college, logistic=True, ci=None,ax=ax)\n",
    "ax.plot(X_plot,[0.5 for p in range(len(X_plot))],color='black',linestyle='dashed',label='y=0.5')\n",
    "ax.vlines(threshold_logistic[0],ymin=-0.1,ymax=1.1,color='black',linestyle='dashdot',label='Prediction threshold')\n",
    "ax.legend();"
   ]
  },
  {
   "cell_type": "markdown",
   "metadata": {},
   "source": [
    "Using a sigmoid curve as the basis for finding the threshold is less sensitive to outliers and follows the data more closely, making it a better fit for assigning data points to categories\n",
    "\n",
    "So that is how Logistic Regression works, it uses a regression method combined with a sigmoid curve to determine the threshold where the prediction changes from 0 to 1. In this demonstration we only used one predictive feature, but it works exactly the same no matter how many features you use (although the calculations do become more complex).\n",
    "\n",
    "In the workshop we will dive deeper into how we interpret and evaluate Logistic Regression models."
   ]
  }
 ],
 "metadata": {
  "kernelspec": {
   "display_name": "Python 3",
   "language": "python",
   "name": "python3"
  },
  "language_info": {
   "codemirror_mode": {
    "name": "ipython",
    "version": 3
   },
   "file_extension": ".py",
   "mimetype": "text/x-python",
   "name": "python",
   "nbconvert_exporter": "python",
   "pygments_lexer": "ipython3",
   "version": "3.7.6"
  }
 },
 "nbformat": 4,
 "nbformat_minor": 4
}
