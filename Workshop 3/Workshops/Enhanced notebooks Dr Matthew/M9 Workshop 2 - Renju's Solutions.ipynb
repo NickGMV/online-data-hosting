{
 "cells": [
  {
   "cell_type": "markdown",
   "metadata": {},
   "source": [
    "# Logistic Regression\n",
    "\n",
    "During Activate you were introduced to Logistic Regression as a classification model."
   ]
  },
  {
   "cell_type": "code",
   "execution_count": 1,
   "metadata": {},
   "outputs": [],
   "source": [
    "# Metadata is always important. It helps give you the context of the data.\n",
    "# https://www.kaggle.com/datasets/yashgpt/us-college-data"
   ]
  },
  {
   "cell_type": "markdown",
   "metadata": {},
   "source": [
    "<p style=font-size:24pt>$p(x)$ = $\\frac{1}{1 + e^{-(\\beta_0 + \\beta_1x)}}$</p> "
   ]
  },
  {
   "cell_type": "markdown",
   "metadata": {},
   "source": [
    "%latex\n",
    "\\begin{align}\n",
    "\\mathrm{log(odds)} = \\beta_0 + \\beta_1 x \\\\ \n",
    "\\mathrm{odds} = e^{\\beta_0} e^{\\beta_1 x} \n",
    "\\end{align}"
   ]
  },
  {
   "cell_type": "markdown",
   "metadata": {},
   "source": [
    "%latex\n",
    "\\begin{equation}\n",
    "\\frac{p(x)}{1 - p(x)} = \\mathrm{odds}\n",
    "\\end{equation}"
   ]
  },
  {
   "cell_type": "code",
   "execution_count": 2,
   "metadata": {},
   "outputs": [],
   "source": [
    "import pandas as pd\n",
    "import matplotlib.pyplot as plt\n",
    "import numpy as np\n",
    "from math import exp \n",
    "\n",
    "# The below code should be used with caution. It will suppress all warnings in the notebook.\n",
    "# It should only be added once your notebook is complete and you are willing to accept the risk of not seeing any warnings.\n",
    "import warnings\n",
    "warnings.filterwarnings('ignore')"
   ]
  },
  {
   "cell_type": "code",
   "execution_count": 3,
   "metadata": {},
   "outputs": [
    {
     "data": {
      "text/html": [
       "<div>\n",
       "<style scoped>\n",
       "    .dataframe tbody tr th:only-of-type {\n",
       "        vertical-align: middle;\n",
       "    }\n",
       "\n",
       "    .dataframe tbody tr th {\n",
       "        vertical-align: top;\n",
       "    }\n",
       "\n",
       "    .dataframe thead th {\n",
       "        text-align: right;\n",
       "    }\n",
       "</style>\n",
       "<table border=\"1\" class=\"dataframe\">\n",
       "  <thead>\n",
       "    <tr style=\"text-align: right;\">\n",
       "      <th></th>\n",
       "      <th>College</th>\n",
       "      <th>Private</th>\n",
       "      <th>Apps</th>\n",
       "      <th>Accept</th>\n",
       "      <th>Enroll</th>\n",
       "      <th>Top10perc</th>\n",
       "      <th>Top25perc</th>\n",
       "      <th>F.Undergrad</th>\n",
       "      <th>P.Undergrad</th>\n",
       "      <th>Outstate</th>\n",
       "      <th>Room.Board</th>\n",
       "      <th>Books</th>\n",
       "      <th>Personal</th>\n",
       "      <th>PhD</th>\n",
       "      <th>Terminal</th>\n",
       "      <th>S.F.Ratio</th>\n",
       "      <th>perc.alumni</th>\n",
       "      <th>Expend</th>\n",
       "      <th>Grad.Rate</th>\n",
       "      <th>Passed_Inspection</th>\n",
       "    </tr>\n",
       "  </thead>\n",
       "  <tbody>\n",
       "    <tr>\n",
       "      <th>33</th>\n",
       "      <td>Baker University</td>\n",
       "      <td>Yes</td>\n",
       "      <td>602</td>\n",
       "      <td>483</td>\n",
       "      <td>206</td>\n",
       "      <td>21</td>\n",
       "      <td>47</td>\n",
       "      <td>958</td>\n",
       "      <td>466</td>\n",
       "      <td>8620</td>\n",
       "      <td>4100</td>\n",
       "      <td>400</td>\n",
       "      <td>2250</td>\n",
       "      <td>58</td>\n",
       "      <td>68</td>\n",
       "      <td>11.0</td>\n",
       "      <td>21</td>\n",
       "      <td>6136</td>\n",
       "      <td>65</td>\n",
       "      <td>False</td>\n",
       "    </tr>\n",
       "    <tr>\n",
       "      <th>603</th>\n",
       "      <td>University of Arkansas at Fayetteville</td>\n",
       "      <td>No</td>\n",
       "      <td>3235</td>\n",
       "      <td>3108</td>\n",
       "      <td>2133</td>\n",
       "      <td>25</td>\n",
       "      <td>65</td>\n",
       "      <td>9978</td>\n",
       "      <td>1530</td>\n",
       "      <td>5028</td>\n",
       "      <td>3300</td>\n",
       "      <td>500</td>\n",
       "      <td>2000</td>\n",
       "      <td>73</td>\n",
       "      <td>89</td>\n",
       "      <td>14.8</td>\n",
       "      <td>10</td>\n",
       "      <td>6820</td>\n",
       "      <td>39</td>\n",
       "      <td>False</td>\n",
       "    </tr>\n",
       "    <tr>\n",
       "      <th>357</th>\n",
       "      <td>McPherson College</td>\n",
       "      <td>Yes</td>\n",
       "      <td>420</td>\n",
       "      <td>293</td>\n",
       "      <td>93</td>\n",
       "      <td>11</td>\n",
       "      <td>32</td>\n",
       "      <td>336</td>\n",
       "      <td>80</td>\n",
       "      <td>7950</td>\n",
       "      <td>3750</td>\n",
       "      <td>600</td>\n",
       "      <td>2740</td>\n",
       "      <td>54</td>\n",
       "      <td>54</td>\n",
       "      <td>9.8</td>\n",
       "      <td>45</td>\n",
       "      <td>9754</td>\n",
       "      <td>48</td>\n",
       "      <td>False</td>\n",
       "    </tr>\n",
       "    <tr>\n",
       "      <th>139</th>\n",
       "      <td>Colorado College</td>\n",
       "      <td>Yes</td>\n",
       "      <td>3207</td>\n",
       "      <td>1577</td>\n",
       "      <td>490</td>\n",
       "      <td>56</td>\n",
       "      <td>87</td>\n",
       "      <td>1892</td>\n",
       "      <td>7</td>\n",
       "      <td>17142</td>\n",
       "      <td>4190</td>\n",
       "      <td>450</td>\n",
       "      <td>1200</td>\n",
       "      <td>85</td>\n",
       "      <td>97</td>\n",
       "      <td>11.3</td>\n",
       "      <td>51</td>\n",
       "      <td>14664</td>\n",
       "      <td>84</td>\n",
       "      <td>True</td>\n",
       "    </tr>\n",
       "    <tr>\n",
       "      <th>691</th>\n",
       "      <td>University of Vermont</td>\n",
       "      <td>No</td>\n",
       "      <td>7663</td>\n",
       "      <td>6008</td>\n",
       "      <td>1735</td>\n",
       "      <td>18</td>\n",
       "      <td>51</td>\n",
       "      <td>7353</td>\n",
       "      <td>1674</td>\n",
       "      <td>15516</td>\n",
       "      <td>4928</td>\n",
       "      <td>500</td>\n",
       "      <td>990</td>\n",
       "      <td>87</td>\n",
       "      <td>90</td>\n",
       "      <td>9.9</td>\n",
       "      <td>10</td>\n",
       "      <td>12646</td>\n",
       "      <td>79</td>\n",
       "      <td>True</td>\n",
       "    </tr>\n",
       "    <tr>\n",
       "      <th>380</th>\n",
       "      <td>Montana College of Mineral Sci. &amp; Tech.</td>\n",
       "      <td>No</td>\n",
       "      <td>572</td>\n",
       "      <td>544</td>\n",
       "      <td>320</td>\n",
       "      <td>45</td>\n",
       "      <td>72</td>\n",
       "      <td>1470</td>\n",
       "      <td>416</td>\n",
       "      <td>6073</td>\n",
       "      <td>3400</td>\n",
       "      <td>550</td>\n",
       "      <td>1400</td>\n",
       "      <td>71</td>\n",
       "      <td>71</td>\n",
       "      <td>16.4</td>\n",
       "      <td>31</td>\n",
       "      <td>6112</td>\n",
       "      <td>74</td>\n",
       "      <td>True</td>\n",
       "    </tr>\n",
       "    <tr>\n",
       "      <th>572</th>\n",
       "      <td>SUNY College at Purchase</td>\n",
       "      <td>No</td>\n",
       "      <td>2119</td>\n",
       "      <td>1264</td>\n",
       "      <td>390</td>\n",
       "      <td>5</td>\n",
       "      <td>33</td>\n",
       "      <td>2478</td>\n",
       "      <td>1441</td>\n",
       "      <td>6550</td>\n",
       "      <td>4760</td>\n",
       "      <td>1125</td>\n",
       "      <td>1362</td>\n",
       "      <td>80</td>\n",
       "      <td>100</td>\n",
       "      <td>14.9</td>\n",
       "      <td>8</td>\n",
       "      <td>8170</td>\n",
       "      <td>46</td>\n",
       "      <td>False</td>\n",
       "    </tr>\n",
       "    <tr>\n",
       "      <th>742</th>\n",
       "      <td>Western Michigan University</td>\n",
       "      <td>No</td>\n",
       "      <td>9167</td>\n",
       "      <td>7191</td>\n",
       "      <td>2738</td>\n",
       "      <td>24</td>\n",
       "      <td>53</td>\n",
       "      <td>15739</td>\n",
       "      <td>4278</td>\n",
       "      <td>6940</td>\n",
       "      <td>4100</td>\n",
       "      <td>500</td>\n",
       "      <td>1700</td>\n",
       "      <td>80</td>\n",
       "      <td>84</td>\n",
       "      <td>24.7</td>\n",
       "      <td>11</td>\n",
       "      <td>5983</td>\n",
       "      <td>55</td>\n",
       "      <td>False</td>\n",
       "    </tr>\n",
       "    <tr>\n",
       "      <th>118</th>\n",
       "      <td>Clinch Valley Coll. of  the Univ. of Virginia</td>\n",
       "      <td>No</td>\n",
       "      <td>689</td>\n",
       "      <td>561</td>\n",
       "      <td>250</td>\n",
       "      <td>15</td>\n",
       "      <td>30</td>\n",
       "      <td>1125</td>\n",
       "      <td>422</td>\n",
       "      <td>7168</td>\n",
       "      <td>3689</td>\n",
       "      <td>600</td>\n",
       "      <td>1900</td>\n",
       "      <td>67</td>\n",
       "      <td>67</td>\n",
       "      <td>18.1</td>\n",
       "      <td>9</td>\n",
       "      <td>4417</td>\n",
       "      <td>46</td>\n",
       "      <td>False</td>\n",
       "    </tr>\n",
       "    <tr>\n",
       "      <th>210</th>\n",
       "      <td>Freed-Hardeman University</td>\n",
       "      <td>Yes</td>\n",
       "      <td>895</td>\n",
       "      <td>548</td>\n",
       "      <td>314</td>\n",
       "      <td>20</td>\n",
       "      <td>54</td>\n",
       "      <td>1174</td>\n",
       "      <td>50</td>\n",
       "      <td>5500</td>\n",
       "      <td>3340</td>\n",
       "      <td>600</td>\n",
       "      <td>1600</td>\n",
       "      <td>68</td>\n",
       "      <td>76</td>\n",
       "      <td>16.1</td>\n",
       "      <td>13</td>\n",
       "      <td>6078</td>\n",
       "      <td>62</td>\n",
       "      <td>False</td>\n",
       "    </tr>\n",
       "  </tbody>\n",
       "</table>\n",
       "</div>"
      ],
      "text/plain": [
       "                                           College Private  Apps  Accept  \\\n",
       "33                                Baker University     Yes   602     483   \n",
       "603         University of Arkansas at Fayetteville      No  3235    3108   \n",
       "357                              McPherson College     Yes   420     293   \n",
       "139                               Colorado College     Yes  3207    1577   \n",
       "691                          University of Vermont      No  7663    6008   \n",
       "380        Montana College of Mineral Sci. & Tech.      No   572     544   \n",
       "572                       SUNY College at Purchase      No  2119    1264   \n",
       "742                    Western Michigan University      No  9167    7191   \n",
       "118  Clinch Valley Coll. of  the Univ. of Virginia      No   689     561   \n",
       "210                      Freed-Hardeman University     Yes   895     548   \n",
       "\n",
       "     Enroll  Top10perc  Top25perc  F.Undergrad  P.Undergrad  Outstate  \\\n",
       "33      206         21         47          958          466      8620   \n",
       "603    2133         25         65         9978         1530      5028   \n",
       "357      93         11         32          336           80      7950   \n",
       "139     490         56         87         1892            7     17142   \n",
       "691    1735         18         51         7353         1674     15516   \n",
       "380     320         45         72         1470          416      6073   \n",
       "572     390          5         33         2478         1441      6550   \n",
       "742    2738         24         53        15739         4278      6940   \n",
       "118     250         15         30         1125          422      7168   \n",
       "210     314         20         54         1174           50      5500   \n",
       "\n",
       "     Room.Board  Books  Personal  PhD  Terminal  S.F.Ratio  perc.alumni  \\\n",
       "33         4100    400      2250   58        68       11.0           21   \n",
       "603        3300    500      2000   73        89       14.8           10   \n",
       "357        3750    600      2740   54        54        9.8           45   \n",
       "139        4190    450      1200   85        97       11.3           51   \n",
       "691        4928    500       990   87        90        9.9           10   \n",
       "380        3400    550      1400   71        71       16.4           31   \n",
       "572        4760   1125      1362   80       100       14.9            8   \n",
       "742        4100    500      1700   80        84       24.7           11   \n",
       "118        3689    600      1900   67        67       18.1            9   \n",
       "210        3340    600      1600   68        76       16.1           13   \n",
       "\n",
       "     Expend  Grad.Rate  Passed_Inspection  \n",
       "33     6136         65              False  \n",
       "603    6820         39              False  \n",
       "357    9754         48              False  \n",
       "139   14664         84               True  \n",
       "691   12646         79               True  \n",
       "380    6112         74               True  \n",
       "572    8170         46              False  \n",
       "742    5983         55              False  \n",
       "118    4417         46              False  \n",
       "210    6078         62              False  "
      ]
     },
     "execution_count": 3,
     "metadata": {},
     "output_type": "execute_result"
    }
   ],
   "source": [
    "college_clean = pd.read_csv('college_clean.csv')\n",
    "college_clean.sample(10)"
   ]
  },
  {
   "cell_type": "code",
   "execution_count": 4,
   "metadata": {},
   "outputs": [],
   "source": [
    "# I have included an extra column called \"Passed_Inspection\"\n",
    "# This is a binary variable that is \n",
    "# True (i.e. 1) if the college passed the inspection\n",
    "# and False (i.e. 0) if the college failed the inspection."
   ]
  },
  {
   "cell_type": "code",
   "execution_count": 5,
   "metadata": {},
   "outputs": [
    {
     "data": {
      "image/png": "[encoded data removed]",
      "text/plain": [
       "<Figure size 600x370.8 with 1 Axes>"
      ]
     },
     "metadata": {},
     "output_type": "display_data"
    }
   ],
   "source": [
    "df_to_plot = college_clean.copy()#.sample(100)\n",
    "X = df_to_plot[['Top10perc']]\n",
    "y = df_to_plot.Passed_Inspection\n",
    "\n",
    "plt.scatter(X, y, s=5, alpha=0.1)\n",
    "plt.xlabel('Students from top tenth of high school (%)')\n",
    "plt.ylabel('Passed_Inspection \\n(True or False)')\n",
    "plt.show()"
   ]
  },
  {
   "cell_type": "code",
   "execution_count": 6,
   "metadata": {},
   "outputs": [],
   "source": [
    "from sklearn.model_selection import train_test_split\n",
    "\n",
    "X = college_clean[['Top10perc']]\n",
    "y = college_clean.Passed_Inspection\n",
    "\n",
    "X_train, X_test, y_train, y_test = train_test_split(X, y, stratify=y, train_size=0.8, random_state=100)\n",
    "# Notice the additional argument, stratify=y; this is to ensure that both sets have the same proportion of target labels.\n",
    "# For example, if 80% of the data is 0, then 80% of the train set should be 0, and 80% of the test set should be 0."
   ]
  },
  {
   "cell_type": "code",
   "execution_count": 7,
   "metadata": {},
   "outputs": [
    {
     "data": {
      "text/plain": [
       "LogisticRegression()"
      ]
     },
     "execution_count": 7,
     "metadata": {},
     "output_type": "execute_result"
    }
   ],
   "source": [
    "from sklearn.linear_model import LogisticRegression\n",
    "\n",
    "logreg = LogisticRegression()\n",
    "logreg.fit(X_train,y_train)"
   ]
  },
  {
   "cell_type": "markdown",
   "metadata": {
    "tags": []
   },
   "source": [
    "## Interpret the model\n",
    "\n",
    "Like with linear regression we can examine the intercept and coefficient of the model:"
   ]
  },
  {
   "cell_type": "code",
   "execution_count": 8,
   "metadata": {},
   "outputs": [
    {
     "data": {
      "text/plain": [
       "-1.662756276019323"
      ]
     },
     "execution_count": 8,
     "metadata": {},
     "output_type": "execute_result"
    }
   ],
   "source": [
    "beta0 = logreg.intercept_[0]\n",
    "beta0"
   ]
  },
  {
   "cell_type": "markdown",
   "metadata": {},
   "source": [
    "This is the log of the odds of a college passing the inspection if zero percent of the college's students came from the top tenth of their high school classes.\n",
    "\n",
    "If we want to wrap our heads around what it means, we need to do some maths to convert it into a probability."
   ]
  },
  {
   "cell_type": "code",
   "execution_count": 9,
   "metadata": {},
   "outputs": [],
   "source": [
    "def convert_to_probability(odds):\n",
    "    ''' \n",
    "    We are simply rearranging this equation (which is the definition of odds): \n",
    "    odds = probability / (1 - probability \n",
    "    '''\n",
    "    probability = odds/(1+odds)\n",
    "    return probability"
   ]
  },
  {
   "cell_type": "code",
   "execution_count": 10,
   "metadata": {},
   "outputs": [
    {
     "data": {
      "text/plain": [
       "0.15939234657262866"
      ]
     },
     "execution_count": 10,
     "metadata": {},
     "output_type": "execute_result"
    }
   ],
   "source": [
    "log_odds = beta0\n",
    "odds = np.exp(log_odds)\n",
    "probability = convert_to_probability(odds)\n",
    "probability"
   ]
  },
  {
   "cell_type": "markdown",
   "metadata": {},
   "source": [
    "This means that if a college has nobody that came from the top tenth of their high school class, it has a probability of 0.16 (16%) of passing the inspection."
   ]
  },
  {
   "cell_type": "code",
   "execution_count": 11,
   "metadata": {},
   "outputs": [
    {
     "data": {
      "text/plain": [
       "0.06314022304111563"
      ]
     },
     "execution_count": 11,
     "metadata": {},
     "output_type": "execute_result"
    }
   ],
   "source": [
    "beta1 = logreg.coef_[0][0]\n",
    "beta1"
   ]
  },
  {
   "cell_type": "markdown",
   "metadata": {},
   "source": [
    "This is how much we adjust the log odds of a college passing the inspection for every additional 1% of their students who were from the top tenth of their high school class.\n",
    "\n",
    "So if 1% of their students did, the log odds become -1.6627562760193226 + 0.06314022.\n",
    "\n",
    "Again, we need to convert that into probability if we want to interpret it meaningfully as a human."
   ]
  },
  {
   "cell_type": "code",
   "execution_count": 12,
   "metadata": {},
   "outputs": [
    {
     "data": {
      "text/html": [
       "<div>\n",
       "<style scoped>\n",
       "    .dataframe tbody tr th:only-of-type {\n",
       "        vertical-align: middle;\n",
       "    }\n",
       "\n",
       "    .dataframe tbody tr th {\n",
       "        vertical-align: top;\n",
       "    }\n",
       "\n",
       "    .dataframe thead th {\n",
       "        text-align: right;\n",
       "    }\n",
       "</style>\n",
       "<table border=\"1\" class=\"dataframe\">\n",
       "  <thead>\n",
       "    <tr style=\"text-align: right;\">\n",
       "      <th></th>\n",
       "      <th>College</th>\n",
       "      <th>Private</th>\n",
       "      <th>Apps</th>\n",
       "      <th>Accept</th>\n",
       "      <th>Enroll</th>\n",
       "      <th>Top10perc</th>\n",
       "      <th>Top25perc</th>\n",
       "      <th>F.Undergrad</th>\n",
       "      <th>P.Undergrad</th>\n",
       "      <th>Outstate</th>\n",
       "      <th>Room.Board</th>\n",
       "      <th>Books</th>\n",
       "      <th>Personal</th>\n",
       "      <th>PhD</th>\n",
       "      <th>Terminal</th>\n",
       "      <th>S.F.Ratio</th>\n",
       "      <th>perc.alumni</th>\n",
       "      <th>Expend</th>\n",
       "      <th>Grad.Rate</th>\n",
       "      <th>Passed_Inspection</th>\n",
       "    </tr>\n",
       "  </thead>\n",
       "  <tbody>\n",
       "    <tr>\n",
       "      <th>0</th>\n",
       "      <td>Abilene Christian University</td>\n",
       "      <td>Yes</td>\n",
       "      <td>1660</td>\n",
       "      <td>1232</td>\n",
       "      <td>721</td>\n",
       "      <td>23</td>\n",
       "      <td>52</td>\n",
       "      <td>2885</td>\n",
       "      <td>537</td>\n",
       "      <td>7440</td>\n",
       "      <td>3300</td>\n",
       "      <td>450</td>\n",
       "      <td>2200</td>\n",
       "      <td>70</td>\n",
       "      <td>78</td>\n",
       "      <td>18.1</td>\n",
       "      <td>12</td>\n",
       "      <td>7041</td>\n",
       "      <td>60</td>\n",
       "      <td>False</td>\n",
       "    </tr>\n",
       "    <tr>\n",
       "      <th>1</th>\n",
       "      <td>Adelphi University</td>\n",
       "      <td>Yes</td>\n",
       "      <td>2186</td>\n",
       "      <td>1924</td>\n",
       "      <td>512</td>\n",
       "      <td>16</td>\n",
       "      <td>29</td>\n",
       "      <td>2683</td>\n",
       "      <td>1227</td>\n",
       "      <td>12280</td>\n",
       "      <td>6450</td>\n",
       "      <td>750</td>\n",
       "      <td>1500</td>\n",
       "      <td>29</td>\n",
       "      <td>30</td>\n",
       "      <td>12.2</td>\n",
       "      <td>16</td>\n",
       "      <td>10527</td>\n",
       "      <td>56</td>\n",
       "      <td>False</td>\n",
       "    </tr>\n",
       "    <tr>\n",
       "      <th>2</th>\n",
       "      <td>Adrian College</td>\n",
       "      <td>Yes</td>\n",
       "      <td>1428</td>\n",
       "      <td>1097</td>\n",
       "      <td>336</td>\n",
       "      <td>22</td>\n",
       "      <td>50</td>\n",
       "      <td>1036</td>\n",
       "      <td>99</td>\n",
       "      <td>11250</td>\n",
       "      <td>3750</td>\n",
       "      <td>400</td>\n",
       "      <td>1165</td>\n",
       "      <td>53</td>\n",
       "      <td>66</td>\n",
       "      <td>12.9</td>\n",
       "      <td>30</td>\n",
       "      <td>8735</td>\n",
       "      <td>54</td>\n",
       "      <td>False</td>\n",
       "    </tr>\n",
       "  </tbody>\n",
       "</table>\n",
       "</div>"
      ],
      "text/plain": [
       "                        College Private  Apps  Accept  Enroll  Top10perc  \\\n",
       "0  Abilene Christian University     Yes  1660    1232     721         23   \n",
       "1            Adelphi University     Yes  2186    1924     512         16   \n",
       "2                Adrian College     Yes  1428    1097     336         22   \n",
       "\n",
       "   Top25perc  F.Undergrad  P.Undergrad  Outstate  Room.Board  Books  Personal  \\\n",
       "0         52         2885          537      7440        3300    450      2200   \n",
       "1         29         2683         1227     12280        6450    750      1500   \n",
       "2         50         1036           99     11250        3750    400      1165   \n",
       "\n",
       "   PhD  Terminal  S.F.Ratio  perc.alumni  Expend  Grad.Rate  Passed_Inspection  \n",
       "0   70        78       18.1           12    7041         60              False  \n",
       "1   29        30       12.2           16   10527         56              False  \n",
       "2   53        66       12.9           30    8735         54              False  "
      ]
     },
     "execution_count": 12,
     "metadata": {},
     "output_type": "execute_result"
    }
   ],
   "source": [
    "# Let us test this on one of the colleges...\n",
    "college_clean.head(3)"
   ]
  },
  {
   "cell_type": "code",
   "execution_count": 13,
   "metadata": {},
   "outputs": [
    {
     "name": "stdout",
     "output_type": "stream",
     "text": [
      "43.2%\n"
     ]
    }
   ],
   "source": [
    "# Adrian College has 22% of its students coming from the top tenth of their high school classes\n",
    "\n",
    "# So:\n",
    "x = 22\n",
    "adrian_log_odds = beta0 + (x * beta1)\n",
    "adrian_odds = np.exp(adrian_log_odds)\n",
    "\n",
    "adrian_prob = convert_to_probability(adrian_odds)\n",
    "print(f\"{adrian_prob:.1%}\")"
   ]
  },
  {
   "cell_type": "markdown",
   "metadata": {},
   "source": [
    "Hence, our model would predict Adrian College has a 43.2% probability of passing the inspection, based on the percentage of its students who were in the top tenth of their high school classes."
   ]
  },
  {
   "cell_type": "markdown",
   "metadata": {},
   "source": [
    "# Easy method"
   ]
  },
  {
   "cell_type": "markdown",
   "metadata": {},
   "source": [
    "Thankfully, sklearn has built into its Logistic Regression function a quick way for us to calculate these probabilities: `predict_proba()`:"
   ]
  },
  {
   "cell_type": "code",
   "execution_count": 14,
   "metadata": {},
   "outputs": [
    {
     "data": {
      "text/html": [
       "<div>\n",
       "<style scoped>\n",
       "    .dataframe tbody tr th:only-of-type {\n",
       "        vertical-align: middle;\n",
       "    }\n",
       "\n",
       "    .dataframe tbody tr th {\n",
       "        vertical-align: top;\n",
       "    }\n",
       "\n",
       "    .dataframe thead th {\n",
       "        text-align: right;\n",
       "    }\n",
       "</style>\n",
       "<table border=\"1\" class=\"dataframe\">\n",
       "  <thead>\n",
       "    <tr style=\"text-align: right;\">\n",
       "      <th></th>\n",
       "      <th>College</th>\n",
       "      <th>Private</th>\n",
       "      <th>Apps</th>\n",
       "      <th>Accept</th>\n",
       "      <th>Enroll</th>\n",
       "      <th>Top10perc</th>\n",
       "      <th>Top25perc</th>\n",
       "      <th>F.Undergrad</th>\n",
       "      <th>P.Undergrad</th>\n",
       "      <th>Outstate</th>\n",
       "      <th>Room.Board</th>\n",
       "      <th>Books</th>\n",
       "      <th>Personal</th>\n",
       "      <th>PhD</th>\n",
       "      <th>Terminal</th>\n",
       "      <th>S.F.Ratio</th>\n",
       "      <th>perc.alumni</th>\n",
       "      <th>Expend</th>\n",
       "      <th>Grad.Rate</th>\n",
       "      <th>Passed_Inspection</th>\n",
       "    </tr>\n",
       "  </thead>\n",
       "  <tbody>\n",
       "    <tr>\n",
       "      <th>2</th>\n",
       "      <td>Adrian College</td>\n",
       "      <td>Yes</td>\n",
       "      <td>1428</td>\n",
       "      <td>1097</td>\n",
       "      <td>336</td>\n",
       "      <td>22</td>\n",
       "      <td>50</td>\n",
       "      <td>1036</td>\n",
       "      <td>99</td>\n",
       "      <td>11250</td>\n",
       "      <td>3750</td>\n",
       "      <td>400</td>\n",
       "      <td>1165</td>\n",
       "      <td>53</td>\n",
       "      <td>66</td>\n",
       "      <td>12.9</td>\n",
       "      <td>30</td>\n",
       "      <td>8735</td>\n",
       "      <td>54</td>\n",
       "      <td>False</td>\n",
       "    </tr>\n",
       "  </tbody>\n",
       "</table>\n",
       "</div>"
      ],
      "text/plain": [
       "          College Private  Apps  Accept  Enroll  Top10perc  Top25perc  \\\n",
       "2  Adrian College     Yes  1428    1097     336         22         50   \n",
       "\n",
       "   F.Undergrad  P.Undergrad  Outstate  Room.Board  Books  Personal  PhD  \\\n",
       "2         1036           99     11250        3750    400      1165   53   \n",
       "\n",
       "   Terminal  S.F.Ratio  perc.alumni  Expend  Grad.Rate  Passed_Inspection  \n",
       "2        66       12.9           30    8735         54              False  "
      ]
     },
     "execution_count": 14,
     "metadata": {},
     "output_type": "execute_result"
    }
   ],
   "source": [
    "college_clean[college_clean.College == 'Adrian College']"
   ]
  },
  {
   "cell_type": "code",
   "execution_count": 15,
   "metadata": {},
   "outputs": [
    {
     "data": {
      "text/plain": [
       "array([[0.567994, 0.432006]])"
      ]
     },
     "execution_count": 15,
     "metadata": {},
     "output_type": "execute_result"
    }
   ],
   "source": [
    "# Remember: Adrian College has 22% of its students coming from the top tenth of their high school classes\n",
    "\n",
    "logreg.predict_proba([[22]])"
   ]
  },
  {
   "cell_type": "markdown",
   "metadata": {},
   "source": [
    "The first value is the probability of the model predicting the college does NOT pass inspection, while the second is the value we calculated earlier, the probability of the college DOES pass the inspection (43.2%).\n",
    "\n",
    "The model then assigns the label (0 or 1) based on which probability is higher. In this case, the probability of failing the inspection is greater, so the model will predict Adrian College as failing the inspection (i.e. 0 or False).\n",
    "\n",
    "We can see this using the `predict` function:"
   ]
  },
  {
   "cell_type": "code",
   "execution_count": 16,
   "metadata": {},
   "outputs": [
    {
     "data": {
      "text/plain": [
       "array([ True])"
      ]
     },
     "execution_count": 16,
     "metadata": {},
     "output_type": "execute_result"
    }
   ],
   "source": [
    "logreg.predict([[90]])"
   ]
  },
  {
   "cell_type": "markdown",
   "metadata": {},
   "source": [
    "If your model has more than one predictive feature, you can still compare the coefficients to see which is having the greatest impact <span style=\"color:red\">as long as those features are in the same units</span>."
   ]
  },
  {
   "cell_type": "markdown",
   "metadata": {},
   "source": [
    "## Practice\n",
    "\n",
    "Build a logistic regression model that predicts whether a college will pass inspection using whatever features you like."
   ]
  },
  {
   "cell_type": "markdown",
   "metadata": {},
   "source": [
    "%latex\n",
    "\\begin{align}\n",
    "\\mathrm{log(odds)} = \\beta_0 + \\beta_1 x \\\\ \n",
    "\\mathrm{odds} = e^{\\beta_0} e^{\\beta_1 x} \n",
    "\\end{align}"
   ]
  },
  {
   "cell_type": "code",
   "execution_count": 17,
   "metadata": {},
   "outputs": [],
   "source": [
    "X2 = college_clean[['Top25perc']]  # I recommend you try this feature, but you can use whichever feature you want\n",
    "y2 = college_clean.Passed_Inspection "
   ]
  },
  {
   "cell_type": "code",
   "execution_count": 18,
   "metadata": {},
   "outputs": [
    {
     "data": {
      "text/plain": [
       "array([[0.57455642, 0.42544358]])"
      ]
     },
     "execution_count": 18,
     "metadata": {},
     "output_type": "execute_result"
    }
   ],
   "source": [
    "X_train2, X_test2, y_train2, y_test2 = train_test_split(X2, y2, stratify=y2, train_size=0.8, random_state=42)\n",
    "logreg2 = LogisticRegression()\n",
    "logreg2.fit(X_train2,y_train2)\n",
    "logreg2.predict_proba([[50]])"
   ]
  },
  {
   "cell_type": "code",
   "execution_count": 19,
   "metadata": {},
   "outputs": [
    {
     "data": {
      "text/plain": [
       "0.5576923076923077"
      ]
     },
     "execution_count": 19,
     "metadata": {},
     "output_type": "execute_result"
    }
   ],
   "source": [
    "logreg2.score(X_test, y_test)"
   ]
  },
  {
   "cell_type": "code",
   "execution_count": 20,
   "metadata": {},
   "outputs": [],
   "source": [
    "## This does all the maths explicitly to show you that it all makes sense...\n",
    "##  Ctrl + / to comment code out (and to undo)...\n",
    "\n",
    "## Use this to print in color\n",
    "# CRED = '\\033[91m'\n",
    "# CEND = '\\033[0m'\n",
    "\n",
    "# X2 = college_clean[['Top25perc']]  # I recommend you try this feature, but you can use whichever feature you want\n",
    "# y2 = college_clean.Passed_Inspection\n",
    "\n",
    "# X_train2, X_test2, y_train2, y_test2 = train_test_split(X2, y2, stratify=y2, train_size=0.8, random_state=100)\n",
    "# x = college_clean[college_clean.College == 'Adrian College'].Top25perc.values[0]\n",
    "\n",
    "# logreg2 = LogisticRegression()\n",
    "# logreg2.fit(X_train2,y_train2)\n",
    "\n",
    "# # We know that: (Please refer to the pdf for the derivation of this equation)\n",
    "# # log(odds) = beta0 + (beta1 * x)\n",
    "# beta0  = logreg2.intercept_[0] # exp(beta0) is the odds when x=0\n",
    "# beta1 = logreg2.coef_[0][0] # exp(beta1) is the multiplicative increase in the odds when x increases by 1\n",
    "\n",
    "# print(f\"Our model predicts that Adrian College has a probability of ??? of passing the inspection\")\n",
    "# print(f\"based on the percentage ({x = }%) of new students from top quarter of H.S. class.\")\n",
    "# print(\"------------------------------------\")\n",
    "# print(f'{beta0 = }')\n",
    "# print(f'{beta1 = }')\n",
    "\n",
    "# print(f'{exp(beta0) = }: These are the odds when x = 0')\n",
    "# print(f'{exp(beta1) = }: This is the multiplicative increase in the odds when x increases by 1')\n",
    "# print(f'odds = {exp(beta0)} * ({exp(beta1)})^{x}')\n",
    "# adrian_odds = exp(beta0) * exp(beta1)**x\n",
    "# print(f'odds = {round(adrian_odds,2)}')\n",
    "# adrian_prob = convert_to_probability(adrian_odds)\n",
    "# print(CRED +  f\"probability = {adrian_prob:.2f}\" + CEND)\n",
    "\n",
    "# adrian_log_odds = beta0 + (x * beta1)\n",
    "# adrian_odds = exp(adrian_log_odds)\n",
    "# adrian_prob = convert_to_probability(adrian_odds)\n",
    "# print(\"------------------------------------\")\n",
    "# print(\"Double check our work, using log odds\")\n",
    "# print(\"------------------------------------\")\n",
    "# print(f\"log(odds) = {beta0:.2f} + (x * {beta1:.2f})\")\n",
    "# print(f\"log(odds) = {beta0:.2f} + ({x} * {beta1:.2f})\")\n",
    "# print(f\"log(odds) = {adrian_log_odds:.2f}\")\n",
    "# print(f\"odds = {adrian_odds:.2f}\")\n",
    "# print(CRED + f\"probability = {adrian_prob:.2f}\" + CEND)\n",
    "# print(f\"Our model predicts that Adrian College has a probability of {adrian_prob:.2f} of passing the inspection\")\n",
    "# print(f\"based on the percentage ({x = }%) of new students from top quarter of H.S. class.\")\n",
    "# print(\"------------------------------------\")\n",
    "# print(\"Triple check our work, using the predict_proba method\")\n",
    "# print(\"------------------------------------\")\n",
    "# print(CRED + f\"probability = {logreg2.predict_proba([[x]])[0][1]:.2f}\"+ CEND)"
   ]
  },
  {
   "cell_type": "markdown",
   "metadata": {},
   "source": [
    "## Evaluating your model\n",
    "\n",
    "We have seen how to build and interpret a model, but how do we know if it is any good? We need to look at evaluation metrics again. The metrics for classification models are different for regression; the first we will look at is accuracy.\n",
    "\n",
    "### Accuracy\n",
    "\n",
    "This is simply what proportion of predictions are correct. We pass into the function data we know - predictor matrix plus corresponding target series - and the accuracy score will tell was how many were correct. We access this using `.score()`."
   ]
  },
  {
   "cell_type": "code",
   "execution_count": 21,
   "metadata": {},
   "outputs": [
    {
     "data": {
      "text/plain": [
       "0.6741935483870968"
      ]
     },
     "execution_count": 21,
     "metadata": {},
     "output_type": "execute_result"
    }
   ],
   "source": [
    "logreg.score(X_train, y_train) # This is the accuracy score\n",
    "# The accuracy score is the proportion of correct predictions\n",
    "# Accuracy = (TP + TN) / (TP + TN + FP + FN)"
   ]
  },
  {
   "cell_type": "markdown",
   "metadata": {},
   "source": [
    "Our first model is correct 67.4% of the time; let's check if this is consistent in the test set."
   ]
  },
  {
   "cell_type": "code",
   "execution_count": 22,
   "metadata": {},
   "outputs": [
    {
     "data": {
      "text/plain": [
       "0.6602564102564102"
      ]
     },
     "execution_count": 22,
     "metadata": {},
     "output_type": "execute_result"
    }
   ],
   "source": [
    "logreg.score(X_test,y_test)"
   ]
  },
  {
   "cell_type": "markdown",
   "metadata": {},
   "source": [
    "The model is slightly less accurate (66%) on the testing data, but close enough to say that the data is fitting appropriately. But is this a good score? It seems ok, but before we can pat ourselves on the back we need to check the baseline accuracy. If I was to just guess that every college was passing the inspection, what would my success rate be?\n",
    "\n",
    "We can use the pandas `value_counts()` function to evaluate this."
   ]
  },
  {
   "cell_type": "code",
   "execution_count": 23,
   "metadata": {},
   "outputs": [
    {
     "data": {
      "text/plain": [
       "False    391\n",
       "True     385\n",
       "Name: Passed_Inspection, dtype: int64"
      ]
     },
     "execution_count": 23,
     "metadata": {},
     "output_type": "execute_result"
    }
   ],
   "source": [
    "college_clean.Passed_Inspection.value_counts()"
   ]
  },
  {
   "cell_type": "markdown",
   "metadata": {},
   "source": [
    "This returns the frequency of each label, if we add the argument `normalize=True` and ask it to return the maximum value we will see what the baseline accuracy is."
   ]
  },
  {
   "cell_type": "code",
   "execution_count": 24,
   "metadata": {},
   "outputs": [
    {
     "data": {
      "text/plain": [
       "0.5038659793814433"
      ]
     },
     "execution_count": 24,
     "metadata": {},
     "output_type": "execute_result"
    }
   ],
   "source": [
    "college_clean.Passed_Inspection.value_counts(normalize=True).max()"
   ]
  },
  {
   "cell_type": "markdown",
   "metadata": {},
   "source": [
    "This means that if we were to just guess that every college failed (we can see from the previous block there are more 0's), we would be correct 50.4% of the time. Our model having an accuracy of 67.4% on new data is better. It is a good idea to display all three values against each other for comparison:"
   ]
  },
  {
   "cell_type": "code",
   "execution_count": 25,
   "metadata": {},
   "outputs": [
    {
     "name": "stdout",
     "output_type": "stream",
     "text": [
      "training accuracy: 0.674\n",
      "testing accuracy: 0.660\n",
      "baseline accuracy: 0.504\n"
     ]
    }
   ],
   "source": [
    "# Rewrite the above with f-strings, rounding to 3 decimal places\n",
    "print(f'training accuracy: {logreg.score(X_train,y_train):.3f}')\n",
    "print(f'testing accuracy: {logreg.score(X_test,y_test):.3f}')\n",
    "print(f'baseline accuracy: {college_clean.Passed_Inspection.value_counts(normalize=True).max():.3f}')"
   ]
  },
  {
   "cell_type": "markdown",
   "metadata": {},
   "source": [
    "Let's compare the scores of our second model:"
   ]
  },
  {
   "cell_type": "code",
   "execution_count": 26,
   "metadata": {},
   "outputs": [],
   "source": [
    "#print(f'training accuracy: {logreg2.score(X_train2,y_train2):.3f}')\n",
    "#print(f'testing accuracy: {logreg2.score(X_test2,y_test2):.3f}')\n",
    "#print(f'baseline accuracy: {college_clean.Passed_Inspection.value_counts(normalize=True).max():.3f}')"
   ]
  },
  {
   "cell_type": "markdown",
   "metadata": {},
   "source": [
    "With these logistic regression models we are predicting something similar to what we did with the linear regression models. Instead of predicting a single value, we are predicting a binary label. "
   ]
  },
  {
   "cell_type": "markdown",
   "metadata": {},
   "source": [
    "# Visualising your model \n",
    "\n",
    "Earlier you were shown a formula for how a logistic regression model calculates its probabilities. If we want to know what value results in a probability of 50% being assigned we can simply solve this equation (note, this only works when you have one predictor):\n",
    "\n",
    "<p style=font-size:24pt>$0.5$ = $\\frac{1}{1 + e^{-(\\beta_0 + \\beta_1x)}}$</p> \n",
    "\n",
    "\n",
    "This equation simplifies quite nicely to:\n",
    "\n",
    "<p style=font-size:24pt>$x$ = $\\frac{-\\beta_0}{\\beta_1}$</p> \n",
    "\n",
    "Where $\\beta_0$ is the intercept and $\\beta_1$ is the coefficient.\n",
    "\n",
    "So using this formula, what percentage of students have to come from the top tenth of their high school class for our model to predict it as above average?"
   ]
  },
  {
   "cell_type": "code",
   "execution_count": 27,
   "metadata": {},
   "outputs": [
    {
     "name": "stdout",
     "output_type": "stream",
     "text": [
      "26.3%\n"
     ]
    }
   ],
   "source": [
    "#Put simply, how many times does the coefficient go into the intercept?\n",
    "-logreg.intercept_[0]/logreg.coef_[0]\n",
    "\n",
    "#The above is the same as:\n",
    "x_at_half_probability = -beta0/beta1\n",
    "print(f\"{x_at_half_probability:.1f}%\") "
   ]
  },
  {
   "cell_type": "markdown",
   "metadata": {},
   "source": [
    "This shows us that our first model will predict any college with more than 26.3% of their learners coming from the top tenth of their high school class will pass the inspection.\n",
    "\n",
    "Knowing this, we can plot the sigmoid curve for this model and add in a vertical line at 0.5 (the threshold for assigning a label) and a horizontal line at 26.3 (the value that will result in a probability of 0.5):"
   ]
  },
  {
   "cell_type": "code",
   "execution_count": 28,
   "metadata": {},
   "outputs": [
    {
     "data": {
      "image/png": "[encoded data removed]",
      "text/plain": [
       "<Figure size 800x800 with 1 Axes>"
      ]
     },
     "metadata": {},
     "output_type": "display_data"
    }
   ],
   "source": [
    "# Generate a list of numbers from 0 to 100 in steps of 0.1\n",
    "z = np.arange(0, 100, 0.1)\n",
    "\n",
    "# Run each value from z through function to find probability of assigning label 0 and 1\n",
    "probs = logreg.predict_proba(pd.DataFrame(z))\n",
    "\n",
    "# Extract the probabilities for assigning label 1\n",
    "phi_z = probs[:, 1]\n",
    "\n",
    "# Plot Top10perc against Passed_Inspection with sigmoid curve and lines to indicate p=0.5 and Top10perc=x_at_half_probability\n",
    "fig, ax = plt.subplots(figsize=(8, 8))\n",
    "ax.plot(college_clean.Top10perc, college_clean.Passed_Inspection, '.')\n",
    "ax.plot(z, phi_z, '.')\n",
    "ax.vlines(x_at_half_probability, ymin=0, ymax=1, color='black')\n",
    "ax.hlines(0.5, xmin=0, xmax=100, color='black')\n",
    "plt.text(10, 0.1, 'True \\nNegative')\n",
    "plt.text(35, 0.1, 'False \\nPositive')\n",
    "plt.text(10, 0.8, 'False \\nNegative')\n",
    "plt.text(35, 0.8, 'True \\nPositive')\n",
    "plt.xlabel('Students from top tenth of high school (%)')\n",
    "plt.ylabel('Probability of passing inspection')\n",
    "plt.show()"
   ]
  },
  {
   "cell_type": "markdown",
   "metadata": {},
   "source": [
    "Note, you can only make this visualisation if there is one predictor.\n",
    "\n",
    "Normally you would not go through this process but we have to demonstrate how logistic regression makes mistakes. Last module you may recall that we discussed type 1 and 2 errors (false positive and false negative). These happen with classification models as well. If you look at the visualisation above you can see four boxes made by the black lines:\n",
    "\n",
    "<ul>\n",
    "    <li> The points in the bottom left box are the colleges which are predicted to fail the inspection and actually failed (True Negative). </li>\n",
    "    <li> The points in the top right box are the colleges which are predicted to pass the inspection and actually passed (True Positive). </li>\n",
    "</ul>\n",
    "\n",
    "The points in these two boxes have been predicted correctly, but what about the other two?\n",
    "\n",
    "<ul>\n",
    "    <li> The points in the bottom right box are the colleges which were predicted to pass the inspection, but actually failed (False Positive).</li>\n",
    "    <li> The points in the top left box are the colleges which have been predicted to fail the inspection, but actually passed (False Negative).</li>\n",
    "</ul>\n",
    "\n",
    "The points in these boxes have been predicted incorrectly, and it is these errors we want to investigate. Is our model more likely to predict a false positive or false negative? One type of error could be a lot worse (depending on the context), so you will want to know what is going to happen.\n",
    "\n",
    "The easiest way to check this is using something called a confusion matrix, which shows the same information as the visualisation above, but in a table."
   ]
  },
  {
   "cell_type": "markdown",
   "metadata": {},
   "source": [
    "# Confusion matrix\n"
   ]
  },
  {
   "cell_type": "code",
   "execution_count": 29,
   "metadata": {},
   "outputs": [],
   "source": [
    "# This website helps you understand precision & recall using interactive visualizations\n",
    "# https://mlu-explain.github.io/precision-recall/ "
   ]
  },
  {
   "cell_type": "code",
   "execution_count": 30,
   "metadata": {},
   "outputs": [],
   "source": [
    "from sklearn.metrics import confusion_matrix, plot_confusion_matrix"
   ]
  },
  {
   "cell_type": "markdown",
   "metadata": {},
   "source": [
    "Before we can build the matrix we will need to collect the predicted values and actual values from our model:"
   ]
  },
  {
   "cell_type": "code",
   "execution_count": 31,
   "metadata": {},
   "outputs": [],
   "source": [
    "y_true = y_train # Would be much better to do cross-validation, at least after we do this...\n",
    "y_pred = logreg.predict(X_train)"
   ]
  },
  {
   "cell_type": "markdown",
   "metadata": {},
   "source": [
    "Now we can build the matrix:"
   ]
  },
  {
   "cell_type": "code",
   "execution_count": 32,
   "metadata": {},
   "outputs": [
    {
     "data": {
      "text/html": [
       "<div>\n",
       "<style scoped>\n",
       "    .dataframe tbody tr th:only-of-type {\n",
       "        vertical-align: middle;\n",
       "    }\n",
       "\n",
       "    .dataframe tbody tr th {\n",
       "        vertical-align: top;\n",
       "    }\n",
       "\n",
       "    .dataframe thead th {\n",
       "        text-align: right;\n",
       "    }\n",
       "</style>\n",
       "<table border=\"1\" class=\"dataframe\">\n",
       "  <thead>\n",
       "    <tr style=\"text-align: right;\">\n",
       "      <th></th>\n",
       "      <th>0</th>\n",
       "      <th>1</th>\n",
       "    </tr>\n",
       "  </thead>\n",
       "  <tbody>\n",
       "    <tr>\n",
       "      <th>0</th>\n",
       "      <td>238</td>\n",
       "      <td>74</td>\n",
       "    </tr>\n",
       "    <tr>\n",
       "      <th>1</th>\n",
       "      <td>128</td>\n",
       "      <td>180</td>\n",
       "    </tr>\n",
       "  </tbody>\n",
       "</table>\n",
       "</div>"
      ],
      "text/plain": [
       "     0    1\n",
       "0  238   74\n",
       "1  128  180"
      ]
     },
     "execution_count": 32,
     "metadata": {},
     "output_type": "execute_result"
    }
   ],
   "source": [
    "pd.DataFrame(confusion_matrix(y_true,y_pred))\n",
    "# Top Left is True Negative; Bottom Right is True Positive\n",
    "# Top Right is False Positive -- predicted positive, but actually negative \n",
    "# Bottom Left is False Negative -- predicted negative, but actually positive"
   ]
  },
  {
   "cell_type": "markdown",
   "metadata": {},
   "source": [
    "Or if you want it to look a bit more visually appealing:"
   ]
  },
  {
   "cell_type": "code",
   "execution_count": 33,
   "metadata": {},
   "outputs": [
    {
     "data": {
      "image/png": "[encoded data removed]",
      "text/plain": [
       "<Figure size 600x370.8 with 2 Axes>"
      ]
     },
     "metadata": {},
     "output_type": "display_data"
    }
   ],
   "source": [
    "#plot_confusion_matrix(logreg, X_train,y_train); # Function plot_confusion_matrix is deprecated\n",
    "from sklearn.metrics import confusion_matrix, ConfusionMatrixDisplay\n",
    "cm = confusion_matrix(y_true, y_pred)\n",
    "disp = ConfusionMatrixDisplay(confusion_matrix=cm, display_labels=logreg.classes_)\n",
    "disp.plot();"
   ]
  },
  {
   "cell_type": "markdown",
   "metadata": {},
   "source": [
    "In either case it shows us the same thing, in our model we have 180 true positives (1,1) and 238 true negatives (0,0). However there are also 74 False Positives and 128 False Negatives. We can see then that our model, based on percentage of students in the top tenth of their high school class, is more likely to predict a failed inspecion, i.e, there are more false negatives than false positives.\n",
    "\n",
    "This method, however, still requires some work. It would be great if there were some metrics that can summarise this information for us...\n",
    "\n",
    "There is!\n",
    "\n",
    "Precision and recall. \n",
    "\n",
    "Precision evaluates how often a prediction is true. It is calculated by dividing the number of true positives by the sum of all positive predictions (false positive + true positive):\n",
    "\n",
    "<p style=font-size:24pt>precision = $\\frac{TP}{TP + FP}$</p> \n",
    "\n",
    "Recall evaluates how often a true value is predicted correctly. It is calculated by dividing the true positives by the sum of all actual positives (false negative + true positive):\n",
    "\n",
    "<p style=font-size:24pt>recall = $\\frac{TP}{TP + FN}$</p> "
   ]
  },
  {
   "cell_type": "code",
   "execution_count": 34,
   "metadata": {},
   "outputs": [
    {
     "name": "stdout",
     "output_type": "stream",
     "text": [
      "-----------------------------------------------------------------------------------------\n",
      "Precision: The percentage of true positives out of all positive predictions is 70.9%\n",
      "Recall: The percentage of true positives out of all actual positives is 58.4%\n"
     ]
    }
   ],
   "source": [
    "from sklearn.metrics import precision_score, recall_score\n",
    "\n",
    "#print('Precision: ' + str(precision_score(y_true,y_pred)))\n",
    "#print('Recall: ' + str(recall_score(y_true,y_pred)))\n",
    "print(\"-----------------------------------------------------------------------------------------\")\n",
    "print(f\"Precision: The percentage of true positives out of all positive predictions is {100*precision_score(y_true, y_pred):.1f}%\")\n",
    "print(f\"Recall: The percentage of true positives out of all actual positives is {100*recall_score(y_true, y_pred):.1f}%\")"
   ]
  },
  {
   "cell_type": "markdown",
   "metadata": {},
   "source": [
    "From the precision we can see that of all the colleges our model has predicted as passing (all positive predictions), 70.9% actually passed (true positives).\n",
    "\n",
    "In other words, from the precision we can see that if our model has said a college will pass, we can be 70.9% confident this prediction is correct.\n",
    "\n",
    "The recall tells us that for all colleges that really did pass (i.e. all the actual positives), 58.4% will be predicted correctly (i.e. are true positives).\n",
    "\n",
    "There is a function called a classification report that will return the precision and recall for both labels, as well as an f1-score (the harmonic mean of precision and recall). This function also returns the accuracy score so you can see all the metrics in one place."
   ]
  },
  {
   "cell_type": "code",
   "execution_count": 35,
   "metadata": {},
   "outputs": [
    {
     "name": "stdout",
     "output_type": "stream",
     "text": [
      "              precision    recall  f1-score   support\n",
      "\n",
      "       False       0.65      0.76      0.70       312\n",
      "        True       0.71      0.58      0.64       308\n",
      "\n",
      "    accuracy                           0.67       620\n",
      "   macro avg       0.68      0.67      0.67       620\n",
      "weighted avg       0.68      0.67      0.67       620\n",
      "\n"
     ]
    }
   ],
   "source": [
    "from sklearn.metrics import classification_report\n",
    "\n",
    "print(classification_report(y_true, y_pred))"
   ]
  },
  {
   "cell_type": "markdown",
   "metadata": {},
   "source": [
    "Bonus: Why the harmonic mean? It punishes the precision and recall scores from being different to each other more than just taking the average of these two scores does."
   ]
  },
  {
   "cell_type": "code",
   "execution_count": 36,
   "metadata": {},
   "outputs": [],
   "source": [
    "# This website helps you understand ROC & ROC-AUC using interactive visualizations\n",
    "# https://mlu-explain.github.io/roc-auc/"
   ]
  },
  {
   "cell_type": "markdown",
   "metadata": {},
   "source": [
    "### AUC-ROC curve\n",
    "\n",
    "A receiver operating characteristic curve (ROC curve) is a useful tool in our arsenal for evaluating our models. By default, the threshold for predicting a label is 0.5, but it doesn't have to be. A ROC curve will, for every threshold between 0 and 1, compare the true positive rate and true negative rate.\n",
    "\n",
    "You have already met the true positive rate - it is the recall. The false positive rate is the recall for the negative label. When you plot these metrics against each other you get a curve, the further this curve stretches into the top left of the visualisation, the better your model is at prediction. If it forms a diagonal line it is not good for prediction at all:"
   ]
  },
  {
   "cell_type": "code",
   "execution_count": 37,
   "metadata": {},
   "outputs": [
    {
     "data": {
      "image/png": "[encoded data removed]",
      "text/plain": [
       "<Figure size 600x370.8 with 1 Axes>"
      ]
     },
     "metadata": {},
     "output_type": "display_data"
    }
   ],
   "source": [
    "from sklearn.metrics import roc_curve\n",
    "\n",
    "# Find the probabilities for each data point\n",
    "y_pred_proba = logreg.predict_proba(X_train)[::,1]\n",
    "\n",
    "# find false positive and true positive rate\n",
    "fpr, tpr, thresholds = roc_curve(y_train,  y_pred_proba, drop_intermediate=False)\n",
    "\n",
    "#create ROC curve\n",
    "plt.plot(fpr, tpr)\n",
    "plt.ylabel('True Positive Rate')\n",
    "plt.xlabel('False Positive Rate')\n",
    "# Plot a diagonal line\n",
    "plt.plot([0, 1], [0, 1], color='lightgrey', lw=1, linestyle='--')\n",
    "plt.show()"
   ]
  },
  {
   "cell_type": "markdown",
   "metadata": {},
   "source": [
    "From this visualisation our model looks ok; we can get a more robust metric by calculating the area under the curve (AUC, hence AUC-ROC). The closer this is to 1, the better the model is at prediction:"
   ]
  },
  {
   "cell_type": "code",
   "execution_count": 38,
   "metadata": {},
   "outputs": [
    {
     "name": "stdout",
     "output_type": "stream",
     "text": [
      "0.734172077922078\n"
     ]
    }
   ],
   "source": [
    "from sklearn.metrics import roc_auc_score\n",
    "\n",
    "auc = roc_auc_score(y_train, y_pred_proba)\n",
    "print(auc)"
   ]
  },
  {
   "cell_type": "markdown",
   "metadata": {},
   "source": [
    "At 73.4% it shows our model is quite good for making predictions."
   ]
  },
  {
   "cell_type": "code",
   "execution_count": 39,
   "metadata": {},
   "outputs": [
    {
     "name": "stdout",
     "output_type": "stream",
     "text": [
      "-----------------------------------------------------------------------------------------\n",
      "Precision: The percentage of true positives out of all positive predictions is 68.8%\n",
      "Recall: The percentage of true positives out of all actual positives is 57.1%\n",
      "              precision    recall  f1-score   support\n",
      "\n",
      "       False       0.64      0.75      0.69        79\n",
      "        True       0.69      0.57      0.62        77\n",
      "\n",
      "    accuracy                           0.66       156\n",
      "   macro avg       0.66      0.66      0.66       156\n",
      "weighted avg       0.66      0.66      0.66       156\n",
      "\n"
     ]
    },
    {
     "data": {
      "image/png": "[encoded data removed]",
      "text/plain": [
       "<Figure size 600x370.8 with 2 Axes>"
      ]
     },
     "metadata": {},
     "output_type": "display_data"
    },
    {
     "data": {
      "image/png": "[encoded data removed]",
      "text/plain": [
       "<Figure size 600x370.8 with 1 Axes>"
      ]
     },
     "metadata": {},
     "output_type": "display_data"
    },
    {
     "name": "stdout",
     "output_type": "stream",
     "text": [
      "0.7407529179681078\n"
     ]
    }
   ],
   "source": [
    "# Now, we should really also do this on the test set...\n",
    "\n",
    "y_true = y_test \n",
    "y_pred = logreg.predict(X_test)\n",
    "\n",
    "pd.DataFrame(confusion_matrix(y_true,y_pred))\n",
    "# Top Left is True Negative; Bottom Right is True Positive\n",
    "# Top Right is False Positive -- predicted positive, but actually negative \n",
    "# Bottom Left is False Negative -- predicted negative, but actually positive\n",
    "\n",
    "# Display Confusion Matrix\n",
    "cm = confusion_matrix(y_true, y_pred)\n",
    "disp = ConfusionMatrixDisplay(confusion_matrix=cm, display_labels=logreg.classes_)\n",
    "disp.plot();\n",
    "\n",
    "print(\"-----------------------------------------------------------------------------------------\")\n",
    "print(f\"Precision: The percentage of true positives out of all positive predictions is {100*precision_score(y_true,y_pred):.1f}%\")\n",
    "print(f\"Recall: The percentage of true positives out of all actual positives is {100*recall_score(y_true,y_pred):.1f}%\")\n",
    "print(classification_report(y_true,y_pred))\n",
    "\n",
    "# Find the probabilities for each data point\n",
    "y_pred_proba = logreg.predict_proba(X_test)[::,1]\n",
    "\n",
    "# find false positive and true positive rate\n",
    "fpr, tpr, thresholds = roc_curve(y_test,  y_pred_proba, drop_intermediate=False)\n",
    "\n",
    "#create ROC curve\n",
    "plt.figure()\n",
    "plt.plot(fpr, tpr)\n",
    "plt.ylabel('True Positive Rate')\n",
    "plt.xlabel('False Positive Rate')\n",
    "# Plot a diagonal line\n",
    "plt.plot([0, 1], [0, 1], color='lightgrey', lw=1, linestyle='--')\n",
    "plt.show()\n",
    "\n",
    "auc = roc_auc_score(y_test, y_pred_proba)\n",
    "print(auc)"
   ]
  },
  {
   "cell_type": "code",
   "execution_count": 40,
   "metadata": {},
   "outputs": [],
   "source": [
    "# Very similar metrics. Great!"
   ]
  },
  {
   "cell_type": "markdown",
   "metadata": {},
   "source": [
    "## Practice\n",
    "\n",
    "For the predictive model you built:\n",
    "\n",
    "<ol>\n",
    "    <li> Calculate the accuracy score for both the training and test data and compare it to the baseline accuracy</li>\n",
    "    <li> Plot a confusion matrix </li>\n",
    "    <li> Print a classification report and check the precision and recall </li>\n",
    "    <li> Plot an AUC-ROC curve and calculate the area under the curve </li>\n",
    "    <li> Interpret these scores and determine which model is the most accurate </li>\n",
    "</ol>"
   ]
  },
  {
   "cell_type": "code",
   "execution_count": 41,
   "metadata": {},
   "outputs": [
    {
     "name": "stdout",
     "output_type": "stream",
     "text": [
      "training accuracy: 0.671\n",
      "testing accuracy: 0.647\n",
      "baseline accuracy: 0.504\n"
     ]
    },
    {
     "data": {
      "image/png": "[encoded data removed]",
      "text/plain": [
       "<Figure size 600x370.8 with 2 Axes>"
      ]
     },
     "metadata": {},
     "output_type": "display_data"
    },
    {
     "name": "stdout",
     "output_type": "stream",
     "text": [
      "Precision: 0.68\n",
      "Recall: 0.64\n",
      "              precision    recall  f1-score   support\n",
      "\n",
      "       False       0.66      0.70      0.68       312\n",
      "        True       0.68      0.64      0.66       308\n",
      "\n",
      "    accuracy                           0.67       620\n",
      "   macro avg       0.67      0.67      0.67       620\n",
      "weighted avg       0.67      0.67      0.67       620\n",
      "\n"
     ]
    },
    {
     "data": {
      "image/png": "[encoded data removed]",
      "text/plain": [
       "<Figure size 600x370.8 with 1 Axes>"
      ]
     },
     "metadata": {},
     "output_type": "display_data"
    },
    {
     "name": "stdout",
     "output_type": "stream",
     "text": [
      "0.7407529179681078\n",
      "0.6747493013315797\n"
     ]
    }
   ],
   "source": [
    "college_clean = pd.read_csv('college_clean.csv')\n",
    "\n",
    "# If you use the following predictor, you will see perfect prediction.\n",
    "# This is because I used Grad.Rate to created the Passed_Inspection column\n",
    "# features = ['Grad.Rate']  \n",
    "\n",
    "features = ['Top25perc']\n",
    "\n",
    "X2 = college_clean[features]\n",
    "y = college_clean.Passed_Inspection\n",
    "\n",
    "X_train2, X_test2, y_train2, y_test2 = train_test_split(X2, y, stratify=y, train_size=0.8, random_state=42)\n",
    "\n",
    "logreg2 = LogisticRegression().fit(X_train2, y_train2)\n",
    "\n",
    "print(f'training accuracy: {logreg2.score(X_train2,y_train2):.3f}')\n",
    "print(f'testing accuracy: {logreg2.score(X_test2,y_test2):.3f}')\n",
    "print(f'baseline accuracy: {college_clean.Passed_Inspection.value_counts(normalize=True).max():.3f}')\n",
    "\n",
    "y_true2 = y_train2\n",
    "y_pred2 = logreg2.predict(X_train2)\n",
    "\n",
    "#plot_confusion_matrix(logreg, X_train,y_train); # Function plot_confusion_matrix is deprecated\n",
    "from sklearn.metrics import confusion_matrix, ConfusionMatrixDisplay\n",
    "cm = confusion_matrix(y_true2, y_pred2)\n",
    "disp = ConfusionMatrixDisplay(confusion_matrix=cm, display_labels=logreg2.classes_)\n",
    "disp.plot()\n",
    "plt.show()\n",
    "\n",
    "print(f'Precision: {precision_score(y_true2,y_pred2):.2f}')\n",
    "print(f'Recall: {recall_score(y_true2,y_pred2):.2f}')\n",
    "\n",
    "print(classification_report(y_true2,y_pred2))\n",
    "\n",
    "from sklearn.metrics import roc_curve\n",
    "\n",
    "# Find the probabilities for each data point\n",
    "y_pred_proba2 = logreg2.predict_proba(X_test2)[::,1]\n",
    "\n",
    "# find false positive and true positive rate\n",
    "fpr2, tpr2, thresholds2 = roc_curve(y_test2,  y_pred_proba2, drop_intermediate=False)\n",
    "\n",
    "#create ROC curve\n",
    "plt.plot(fpr, tpr, color='red', label='Model 1')\n",
    "plt.plot(fpr2, tpr2, color='blue', label='Model 2')\n",
    "\n",
    "plt.ylabel('True Positive Rate')\n",
    "plt.xlabel('False Positive Rate')\n",
    "plt.legend()\n",
    "\n",
    "plt.show()\n",
    "\n",
    "auc = roc_auc_score(y_test, y_pred_proba)\n",
    "print(auc)\n",
    "\n",
    "auc2 = roc_auc_score(y_test2, y_pred_proba2)\n",
    "print(auc2)"
   ]
  },
  {
   "cell_type": "markdown",
   "metadata": {},
   "source": [
    "### [Stretch] Finding the optimal threshold\n",
    "\n",
    "An advantage AUC-ROC of curves is that they can help us understand what the optimal threshold is for minimising false positives or negatives. You don't have to leave the threshold for assigning a label at 0.5, you can change it to reduce one of the two errors. But how do you know which threshold to choose?\n",
    "\n",
    "It's actually quite simple to work out. Earlier we calculated a list of true positive rates (tpr) and false positive rates (fpr) for all thresholds. To find the threshold which optimises the true positive rate (minimises false positives) we just need to find the largest difference between the true positive and false positive rates. To optimise the false positive rate you find the smallest difference."
   ]
  },
  {
   "cell_type": "code",
   "execution_count": 42,
   "metadata": {},
   "outputs": [
    {
     "data": {
      "text/plain": [
       "array([0.        , 0.02597403, 0.05194805, 0.06493506, 0.07792208,\n",
       "       0.09090909, 0.1038961 , 0.16883117, 0.18181818, 0.19480519,\n",
       "       0.22077922, 0.20812099, 0.22110801, 0.26006904, 0.24741082,\n",
       "       0.27338484, 0.24806839, 0.26171297, 0.26204176, 0.27502877,\n",
       "       0.27535755, 0.27601512, 0.28933092, 0.30231794, 0.28998849,\n",
       "       0.27765905, 0.29064606, 0.3296071 , 0.30461943, 0.30494822,\n",
       "       0.31826401, 0.30593457, 0.31957916, 0.34588197, 0.37284235,\n",
       "       0.36117048, 0.37448627, 0.36248562, 0.3118527 , 0.31251027,\n",
       "       0.2875226 , 0.21190202, 0.17425612, 0.14926845, 0.18822949,\n",
       "       0.15058359, 0.13792537, 0.07496301, 0.08827881, 0.08860759,\n",
       "       0.07594937, 0.02531646, 0.01265823, 0.        ])"
      ]
     },
     "execution_count": 42,
     "metadata": {},
     "output_type": "execute_result"
    }
   ],
   "source": [
    "tpr_minus_fpr = (tpr-fpr)\n",
    "tpr_minus_fpr"
   ]
  },
  {
   "cell_type": "code",
   "execution_count": 43,
   "metadata": {},
   "outputs": [
    {
     "name": "stdout",
     "output_type": "stream",
     "text": [
      "0.37448627322045047\n"
     ]
    }
   ],
   "source": [
    "best_tp = tpr_minus_fpr.max()\n",
    "print(best_tp)"
   ]
  },
  {
   "cell_type": "code",
   "execution_count": 44,
   "metadata": {},
   "outputs": [],
   "source": [
    "import numpy as np\n",
    "best_index = np.where(tpr_minus_fpr == best_tp)"
   ]
  },
  {
   "cell_type": "code",
   "execution_count": 45,
   "metadata": {},
   "outputs": [
    {
     "data": {
      "text/plain": [
       "0.41658418675194653"
      ]
     },
     "execution_count": 45,
     "metadata": {},
     "output_type": "execute_result"
    }
   ],
   "source": [
    "best_threshold = thresholds[best_index][0]\n",
    "best_threshold"
   ]
  },
  {
   "cell_type": "markdown",
   "metadata": {},
   "source": [
    "To optimise our model we need to set the threshold to 0.542. This means that if our model says the probability of a college being above average is greater than 54.2% we should assign the positive label. It is easy to do this:"
   ]
  },
  {
   "cell_type": "code",
   "execution_count": 46,
   "metadata": {},
   "outputs": [],
   "source": [
    "# For each data point return the probability of predicting the positive label\n",
    "y_pred_proba = logreg.predict_proba(X_test)[::,1]\n",
    "\n",
    "# If this value is greater than best_threshold (0.542) assign 1, else 0\n",
    "new_preds = np.array(y_pred_proba >= best_threshold).astype(int)"
   ]
  },
  {
   "cell_type": "markdown",
   "metadata": {},
   "source": [
    "Using this we can now recalculate the precision, recall and accuracy and see if it has been improved:"
   ]
  },
  {
   "cell_type": "code",
   "execution_count": 47,
   "metadata": {},
   "outputs": [
    {
     "data": {
      "text/html": [
       "<div>\n",
       "<style scoped>\n",
       "    .dataframe tbody tr th:only-of-type {\n",
       "        vertical-align: middle;\n",
       "    }\n",
       "\n",
       "    .dataframe tbody tr th {\n",
       "        vertical-align: top;\n",
       "    }\n",
       "\n",
       "    .dataframe thead th {\n",
       "        text-align: right;\n",
       "    }\n",
       "</style>\n",
       "<table border=\"1\" class=\"dataframe\">\n",
       "  <thead>\n",
       "    <tr style=\"text-align: right;\">\n",
       "      <th></th>\n",
       "      <th>0</th>\n",
       "      <th>1</th>\n",
       "    </tr>\n",
       "  </thead>\n",
       "  <tbody>\n",
       "    <tr>\n",
       "      <th>0</th>\n",
       "      <td>46</td>\n",
       "      <td>33</td>\n",
       "    </tr>\n",
       "    <tr>\n",
       "      <th>1</th>\n",
       "      <td>16</td>\n",
       "      <td>61</td>\n",
       "    </tr>\n",
       "  </tbody>\n",
       "</table>\n",
       "</div>"
      ],
      "text/plain": [
       "    0   1\n",
       "0  46  33\n",
       "1  16  61"
      ]
     },
     "execution_count": 47,
     "metadata": {},
     "output_type": "execute_result"
    }
   ],
   "source": [
    "pd.DataFrame(confusion_matrix(y_true,new_preds))\n",
    "# Top Left is True Negative; Bottom Right is True Positive\n",
    "# Top Right is False Positive -- predicted positive, but actually negative \n",
    "# Bottom Left is False Negative -- predicted negative, but actually positive"
   ]
  },
  {
   "cell_type": "markdown",
   "metadata": {},
   "source": [
    "Comparing this to our previous confusion matrix:"
   ]
  },
  {
   "cell_type": "code",
   "execution_count": 48,
   "metadata": {},
   "outputs": [
    {
     "data": {
      "text/html": [
       "<div>\n",
       "<style scoped>\n",
       "    .dataframe tbody tr th:only-of-type {\n",
       "        vertical-align: middle;\n",
       "    }\n",
       "\n",
       "    .dataframe tbody tr th {\n",
       "        vertical-align: top;\n",
       "    }\n",
       "\n",
       "    .dataframe thead th {\n",
       "        text-align: right;\n",
       "    }\n",
       "</style>\n",
       "<table border=\"1\" class=\"dataframe\">\n",
       "  <thead>\n",
       "    <tr style=\"text-align: right;\">\n",
       "      <th></th>\n",
       "      <th>0</th>\n",
       "      <th>1</th>\n",
       "    </tr>\n",
       "  </thead>\n",
       "  <tbody>\n",
       "    <tr>\n",
       "      <th>0</th>\n",
       "      <td>59</td>\n",
       "      <td>20</td>\n",
       "    </tr>\n",
       "    <tr>\n",
       "      <th>1</th>\n",
       "      <td>33</td>\n",
       "      <td>44</td>\n",
       "    </tr>\n",
       "  </tbody>\n",
       "</table>\n",
       "</div>"
      ],
      "text/plain": [
       "    0   1\n",
       "0  59  20\n",
       "1  33  44"
      ]
     },
     "execution_count": 48,
     "metadata": {},
     "output_type": "execute_result"
    }
   ],
   "source": [
    "pd.DataFrame(confusion_matrix(y_true,y_pred))\n",
    "# Top Left is True Negative; Bottom Right is True Positive\n",
    "# Top Right is False Positive -- predicted positive, but actually negative \n",
    "# Bottom Left is False Negative -- predicted negative, but actually positive"
   ]
  },
  {
   "cell_type": "markdown",
   "metadata": {},
   "source": [
    "We can see there has been a small reduction in false positives and increase in true negatives but at a cost of more false negatives and fewer true positives. This means our model is now better at predicting fails. \n",
    "\n",
    "Let's check the metrics:"
   ]
  },
  {
   "cell_type": "code",
   "execution_count": 49,
   "metadata": {},
   "outputs": [
    {
     "name": "stdout",
     "output_type": "stream",
     "text": [
      "Optimal threshold\n",
      "              precision    recall  f1-score   support\n",
      "\n",
      "       False       0.74      0.58      0.65        79\n",
      "        True       0.65      0.79      0.71        77\n",
      "\n",
      "    accuracy                           0.69       156\n",
      "   macro avg       0.70      0.69      0.68       156\n",
      "weighted avg       0.70      0.69      0.68       156\n",
      "\n",
      "Threshold=0.5\n",
      "              precision    recall  f1-score   support\n",
      "\n",
      "       False       0.64      0.75      0.69        79\n",
      "        True       0.69      0.57      0.62        77\n",
      "\n",
      "    accuracy                           0.66       156\n",
      "   macro avg       0.66      0.66      0.66       156\n",
      "weighted avg       0.66      0.66      0.66       156\n",
      "\n"
     ]
    }
   ],
   "source": [
    "print('Optimal threshold')\n",
    "print(classification_report(y_true,new_preds))\n",
    "print('Threshold=0.5')\n",
    "print(classification_report(y_true,y_pred))"
   ]
  },
  {
   "cell_type": "markdown",
   "metadata": {},
   "source": [
    "What we have done is optimised the threshold for predicting below average colleges correctly, with the recall now being 81%. This means that 81% of colleges failing inspection will be labelled correctly. The cost of this is that the precision has dropped, meaning that we are less confident that a fail prediction is actually correct.\n",
    "\n",
    "On the flipside, we can be more confident that a label of pass is correct, but we're capturing fewer of them.\n",
    "\n",
    "Finding the best model is a complicated fine tuning process; this is on top of comparing to other models which are using different combinations of features as well. You should only use this process once you have decided upon your best model and then fine tune it.\n",
    "\n",
    "The reason we would want to do this is to minimise one of the two errors. Depending on the context one type of error can be far worse than the other. Consider an algorithm that tries to predict if a tumor is malignant, what would be worse - a false positive or false negative?\n",
    "\n",
    "A false positive means a tumor is identified as malignant when it isn't, but this would be dealt with in a future round of testing. A false negative on the other hand would mean a malignant tumor has not been identified. The patient would leave thinking they were fine when they weren't and not get the treatment they need. A false negative in this case is far worse, so it would make sense to amend the threshold to reduce the likelihood, even though it would likely result in more false positives.\n",
    "\n",
    "Amending a threshold to avoid a type of error is an ethical issue as you are potentially tampering with the output of a model. If you decide to do this it needs to be justified in the context of the situation, identifying why one type of error is worse than the other."
   ]
  },
  {
   "cell_type": "markdown",
   "metadata": {},
   "source": [
    "# Practice\n",
    "\n",
    "A financial advisor is investigating what will most greatly affect the chances of someone having a loan approved. \n",
    "\n",
    "Clean and prepare the data below to build a model that will predict if a loan is approved. Evaluate and interpret the model to explain to a non-technical stakeholder what most affects loan approvals, and how reliable your model is.\n",
    "\n",
    "<a href='https://www.kaggle.com/datasets/vikasukani/loan-eligible-dataset'>Documentation.</a>"
   ]
  },
  {
   "cell_type": "code",
   "execution_count": 50,
   "metadata": {},
   "outputs": [
    {
     "data": {
      "text/html": [
       "<div>\n",
       "<style scoped>\n",
       "    .dataframe tbody tr th:only-of-type {\n",
       "        vertical-align: middle;\n",
       "    }\n",
       "\n",
       "    .dataframe tbody tr th {\n",
       "        vertical-align: top;\n",
       "    }\n",
       "\n",
       "    .dataframe thead th {\n",
       "        text-align: right;\n",
       "    }\n",
       "</style>\n",
       "<table border=\"1\" class=\"dataframe\">\n",
       "  <thead>\n",
       "    <tr style=\"text-align: right;\">\n",
       "      <th></th>\n",
       "      <th>Loan_ID</th>\n",
       "      <th>Gender</th>\n",
       "      <th>Married</th>\n",
       "      <th>Dependents</th>\n",
       "      <th>Education</th>\n",
       "      <th>Self_Employed</th>\n",
       "      <th>ApplicantIncome</th>\n",
       "      <th>CoapplicantIncome</th>\n",
       "      <th>LoanAmount</th>\n",
       "      <th>Loan_Amount_Term</th>\n",
       "      <th>Credit_History</th>\n",
       "      <th>Property_Area</th>\n",
       "      <th>Loan_Status</th>\n",
       "    </tr>\n",
       "  </thead>\n",
       "  <tbody>\n",
       "    <tr>\n",
       "      <th>0</th>\n",
       "      <td>LP001002</td>\n",
       "      <td>Male</td>\n",
       "      <td>No</td>\n",
       "      <td>0</td>\n",
       "      <td>Graduate</td>\n",
       "      <td>No</td>\n",
       "      <td>5849</td>\n",
       "      <td>0.0</td>\n",
       "      <td>NaN</td>\n",
       "      <td>360.0</td>\n",
       "      <td>1.0</td>\n",
       "      <td>Urban</td>\n",
       "      <td>Y</td>\n",
       "    </tr>\n",
       "    <tr>\n",
       "      <th>1</th>\n",
       "      <td>LP001003</td>\n",
       "      <td>Male</td>\n",
       "      <td>Yes</td>\n",
       "      <td>1</td>\n",
       "      <td>Graduate</td>\n",
       "      <td>No</td>\n",
       "      <td>4583</td>\n",
       "      <td>1508.0</td>\n",
       "      <td>128.0</td>\n",
       "      <td>360.0</td>\n",
       "      <td>1.0</td>\n",
       "      <td>Rural</td>\n",
       "      <td>N</td>\n",
       "    </tr>\n",
       "    <tr>\n",
       "      <th>2</th>\n",
       "      <td>LP001005</td>\n",
       "      <td>Male</td>\n",
       "      <td>Yes</td>\n",
       "      <td>0</td>\n",
       "      <td>Graduate</td>\n",
       "      <td>Yes</td>\n",
       "      <td>3000</td>\n",
       "      <td>0.0</td>\n",
       "      <td>66.0</td>\n",
       "      <td>360.0</td>\n",
       "      <td>1.0</td>\n",
       "      <td>Urban</td>\n",
       "      <td>Y</td>\n",
       "    </tr>\n",
       "    <tr>\n",
       "      <th>3</th>\n",
       "      <td>LP001006</td>\n",
       "      <td>Male</td>\n",
       "      <td>Yes</td>\n",
       "      <td>0</td>\n",
       "      <td>Not Graduate</td>\n",
       "      <td>No</td>\n",
       "      <td>2583</td>\n",
       "      <td>2358.0</td>\n",
       "      <td>120.0</td>\n",
       "      <td>360.0</td>\n",
       "      <td>1.0</td>\n",
       "      <td>Urban</td>\n",
       "      <td>Y</td>\n",
       "    </tr>\n",
       "    <tr>\n",
       "      <th>4</th>\n",
       "      <td>LP001008</td>\n",
       "      <td>Male</td>\n",
       "      <td>No</td>\n",
       "      <td>0</td>\n",
       "      <td>Graduate</td>\n",
       "      <td>No</td>\n",
       "      <td>6000</td>\n",
       "      <td>0.0</td>\n",
       "      <td>141.0</td>\n",
       "      <td>360.0</td>\n",
       "      <td>1.0</td>\n",
       "      <td>Urban</td>\n",
       "      <td>Y</td>\n",
       "    </tr>\n",
       "  </tbody>\n",
       "</table>\n",
       "</div>"
      ],
      "text/plain": [
       "    Loan_ID Gender Married Dependents     Education Self_Employed  \\\n",
       "0  LP001002   Male      No          0      Graduate            No   \n",
       "1  LP001003   Male     Yes          1      Graduate            No   \n",
       "2  LP001005   Male     Yes          0      Graduate           Yes   \n",
       "3  LP001006   Male     Yes          0  Not Graduate            No   \n",
       "4  LP001008   Male      No          0      Graduate            No   \n",
       "\n",
       "   ApplicantIncome  CoapplicantIncome  LoanAmount  Loan_Amount_Term  \\\n",
       "0             5849                0.0         NaN             360.0   \n",
       "1             4583             1508.0       128.0             360.0   \n",
       "2             3000                0.0        66.0             360.0   \n",
       "3             2583             2358.0       120.0             360.0   \n",
       "4             6000                0.0       141.0             360.0   \n",
       "\n",
       "   Credit_History Property_Area Loan_Status  \n",
       "0             1.0         Urban           Y  \n",
       "1             1.0         Rural           N  \n",
       "2             1.0         Urban           Y  \n",
       "3             1.0         Urban           Y  \n",
       "4             1.0         Urban           Y  "
      ]
     },
     "execution_count": 50,
     "metadata": {},
     "output_type": "execute_result"
    }
   ],
   "source": [
    "loan_df = pd.read_csv('loans.csv')\n",
    "loan_df.head()"
   ]
  },
  {
   "cell_type": "code",
   "execution_count": 51,
   "metadata": {},
   "outputs": [
    {
     "data": {
      "text/plain": [
       "Loan_ID                0\n",
       "Gender                24\n",
       "Married                3\n",
       "Dependents            25\n",
       "Education              0\n",
       "Self_Employed         55\n",
       "ApplicantIncome        0\n",
       "CoapplicantIncome      0\n",
       "LoanAmount            27\n",
       "Loan_Amount_Term      20\n",
       "Credit_History        79\n",
       "Property_Area          0\n",
       "Loan_Status          367\n",
       "dtype: int64"
      ]
     },
     "execution_count": 51,
     "metadata": {},
     "output_type": "execute_result"
    }
   ],
   "source": [
    "loan_df.isnull().sum()"
   ]
  },
  {
   "cell_type": "code",
   "execution_count": 52,
   "metadata": {},
   "outputs": [
    {
     "data": {
      "text/plain": [
       "0"
      ]
     },
     "execution_count": 52,
     "metadata": {},
     "output_type": "execute_result"
    }
   ],
   "source": [
    "loan_df = loan_df.dropna()\n",
    "loan_df.duplicated().sum()"
   ]
  },
  {
   "cell_type": "code",
   "execution_count": 53,
   "metadata": {},
   "outputs": [],
   "source": [
    "# loan_df['Loan_Status']=loan_df.Loan_Status.apply(lambda x: 1 if x=='Y' else 0)\n",
    "loan_df['Loan_Status'] = (loan_df.Loan_Status == 'Y').astype(int)  # Avoid using .apply() if you can"
   ]
  },
  {
   "cell_type": "code",
   "execution_count": 54,
   "metadata": {},
   "outputs": [],
   "source": [
    "loan_dummies = pd.get_dummies(loan_df, columns=['Gender','Dependents','Married','Education','Self_Employed','Property_Area','Credit_History'], drop_first=True)"
   ]
  },
  {
   "cell_type": "code",
   "execution_count": 55,
   "metadata": {},
   "outputs": [
    {
     "data": {
      "text/plain": [
       "Index(['Loan_ID', 'ApplicantIncome', 'CoapplicantIncome', 'LoanAmount',\n",
       "       'Loan_Amount_Term', 'Loan_Status', 'Gender_Male', 'Dependents_1',\n",
       "       'Dependents_2', 'Dependents_3+', 'Married_Yes',\n",
       "       'Education_Not Graduate', 'Self_Employed_Yes',\n",
       "       'Property_Area_Semiurban', 'Property_Area_Urban', 'Credit_History_1.0'],\n",
       "      dtype='object')"
      ]
     },
     "execution_count": 55,
     "metadata": {},
     "output_type": "execute_result"
    }
   ],
   "source": [
    "loan_dummies.columns"
   ]
  },
  {
   "cell_type": "code",
   "execution_count": 56,
   "metadata": {},
   "outputs": [],
   "source": [
    "X = loan_dummies.drop(['Loan_ID'], axis=1)\n",
    "y = X.pop('Loan_Status') \n",
    "# The code removes the 'Loan_Status' column from X using the pop() method and assigns it to the variable y. \n",
    "# This separates the target variable from the features in X. "
   ]
  },
  {
   "cell_type": "code",
   "execution_count": 57,
   "metadata": {},
   "outputs": [
    {
     "data": {
      "text/plain": [
       "LogisticRegression(max_iter=1000, random_state=1)"
      ]
     },
     "execution_count": 57,
     "metadata": {},
     "output_type": "execute_result"
    }
   ],
   "source": [
    "X_train, X_test, y_train, y_test = train_test_split(X, y, stratify=y, train_size=0.8, random_state=1)\n",
    "logreg = LogisticRegression(max_iter=1000, random_state=1)\n",
    "logreg.fit(X_train,y_train)"
   ]
  },
  {
   "cell_type": "code",
   "execution_count": 58,
   "metadata": {},
   "outputs": [
    {
     "data": {
      "text/html": [
       "<div>\n",
       "<style scoped>\n",
       "    .dataframe tbody tr th:only-of-type {\n",
       "        vertical-align: middle;\n",
       "    }\n",
       "\n",
       "    .dataframe tbody tr th {\n",
       "        vertical-align: top;\n",
       "    }\n",
       "\n",
       "    .dataframe thead th {\n",
       "        text-align: right;\n",
       "    }\n",
       "</style>\n",
       "<table border=\"1\" class=\"dataframe\">\n",
       "  <thead>\n",
       "    <tr style=\"text-align: right;\">\n",
       "      <th></th>\n",
       "      <th>coeff</th>\n",
       "      <th>odds = exp_coeff</th>\n",
       "      <th>column_name</th>\n",
       "    </tr>\n",
       "  </thead>\n",
       "  <tbody>\n",
       "    <tr>\n",
       "      <th>0</th>\n",
       "      <td>2.596244</td>\n",
       "      <td>13.413269</td>\n",
       "      <td>Credit_History_1.0</td>\n",
       "    </tr>\n",
       "    <tr>\n",
       "      <th>1</th>\n",
       "      <td>0.852282</td>\n",
       "      <td>2.344991</td>\n",
       "      <td>Property_Area_Semiurban</td>\n",
       "    </tr>\n",
       "    <tr>\n",
       "      <th>2</th>\n",
       "      <td>0.529204</td>\n",
       "      <td>1.697581</td>\n",
       "      <td>Married_Yes</td>\n",
       "    </tr>\n",
       "    <tr>\n",
       "      <th>3</th>\n",
       "      <td>0.293366</td>\n",
       "      <td>1.340933</td>\n",
       "      <td>Gender_Male</td>\n",
       "    </tr>\n",
       "    <tr>\n",
       "      <th>4</th>\n",
       "      <td>0.138809</td>\n",
       "      <td>1.148904</td>\n",
       "      <td>Dependents_3+</td>\n",
       "    </tr>\n",
       "    <tr>\n",
       "      <th>5</th>\n",
       "      <td>0.061794</td>\n",
       "      <td>1.063744</td>\n",
       "      <td>Dependents_2</td>\n",
       "    </tr>\n",
       "    <tr>\n",
       "      <th>6</th>\n",
       "      <td>-0.000005</td>\n",
       "      <td>0.999995</td>\n",
       "      <td>ApplicantIncome</td>\n",
       "    </tr>\n",
       "    <tr>\n",
       "      <th>7</th>\n",
       "      <td>-0.000051</td>\n",
       "      <td>0.999949</td>\n",
       "      <td>CoapplicantIncome</td>\n",
       "    </tr>\n",
       "    <tr>\n",
       "      <th>8</th>\n",
       "      <td>-0.003572</td>\n",
       "      <td>0.996435</td>\n",
       "      <td>LoanAmount</td>\n",
       "    </tr>\n",
       "    <tr>\n",
       "      <th>9</th>\n",
       "      <td>-0.004218</td>\n",
       "      <td>0.995791</td>\n",
       "      <td>Loan_Amount_Term</td>\n",
       "    </tr>\n",
       "    <tr>\n",
       "      <th>10</th>\n",
       "      <td>-0.029230</td>\n",
       "      <td>0.971193</td>\n",
       "      <td>Property_Area_Urban</td>\n",
       "    </tr>\n",
       "    <tr>\n",
       "      <th>11</th>\n",
       "      <td>-0.097221</td>\n",
       "      <td>0.907355</td>\n",
       "      <td>Self_Employed_Yes</td>\n",
       "    </tr>\n",
       "    <tr>\n",
       "      <th>12</th>\n",
       "      <td>-0.257406</td>\n",
       "      <td>0.773055</td>\n",
       "      <td>Dependents_1</td>\n",
       "    </tr>\n",
       "    <tr>\n",
       "      <th>13</th>\n",
       "      <td>-0.375185</td>\n",
       "      <td>0.687162</td>\n",
       "      <td>Education_Not Graduate</td>\n",
       "    </tr>\n",
       "  </tbody>\n",
       "</table>\n",
       "</div>"
      ],
      "text/plain": [
       "       coeff  odds = exp_coeff              column_name\n",
       "0   2.596244         13.413269       Credit_History_1.0\n",
       "1   0.852282          2.344991  Property_Area_Semiurban\n",
       "2   0.529204          1.697581              Married_Yes\n",
       "3   0.293366          1.340933              Gender_Male\n",
       "4   0.138809          1.148904            Dependents_3+\n",
       "5   0.061794          1.063744             Dependents_2\n",
       "6  -0.000005          0.999995          ApplicantIncome\n",
       "7  -0.000051          0.999949        CoapplicantIncome\n",
       "8  -0.003572          0.996435               LoanAmount\n",
       "9  -0.004218          0.995791         Loan_Amount_Term\n",
       "10 -0.029230          0.971193      Property_Area_Urban\n",
       "11 -0.097221          0.907355        Self_Employed_Yes\n",
       "12 -0.257406          0.773055             Dependents_1\n",
       "13 -0.375185          0.687162   Education_Not Graduate"
      ]
     },
     "metadata": {},
     "output_type": "display_data"
    }
   ],
   "source": [
    "# create a list of dictionaries containing the data\n",
    "data = []\n",
    "for index, coeff in enumerate(logreg.coef_[0]):\n",
    "    data.append({'coeff': coeff, 'odds = exp_coeff': np.exp(coeff), 'column_name': X_train.columns[index]})\n",
    "\n",
    "# create the DataFrame\n",
    "df = pd.DataFrame(data).sort_values(by='odds = exp_coeff', ascending=False).reset_index(drop=True)\n",
    "\n",
    "# display the DataFrame\n",
    "display(df)"
   ]
  },
  {
   "cell_type": "code",
   "execution_count": 59,
   "metadata": {},
   "outputs": [],
   "source": [
    "# Because of the nonlinear relationship between odds and probability, I don't recommend converting to probability here."
   ]
  },
  {
   "cell_type": "code",
   "execution_count": 60,
   "metadata": {},
   "outputs": [],
   "source": [
    "# Having a credit history which meets guidelines multiplies your odds of predicted approval by 13.\n",
    "# Having your property in a semiurban area multiplies your odds of predicted approval by 2.3.\n",
    "# Being married multiplies your odds of predicted approval by 1.7.\n",
    "# Being male multiplies your odds of predicted approval by 1.3.\n",
    "# Having dependents multiplies your odds of predicted approval by 1.1. \n",
    "\n",
    "# Not being a graduate multiplies your odds of predicted approval by 0.7. (i.e. it decreases your odds)"
   ]
  },
  {
   "cell_type": "code",
   "execution_count": 61,
   "metadata": {},
   "outputs": [],
   "source": [
    "effect_df = df[['column_name', 'odds = exp_coeff']].copy()\n",
    "effect_df= effect_df.set_index('column_name')"
   ]
  },
  {
   "cell_type": "code",
   "execution_count": 62,
   "metadata": {},
   "outputs": [
    {
     "data": {
      "image/png": "[encoded data removed]",
      "text/plain": [
       "<Figure size 1000x1000 with 1 Axes>"
      ]
     },
     "metadata": {},
     "output_type": "display_data"
    }
   ],
   "source": [
    "#display(effect_df)\n",
    "fig, ax = plt.subplots(figsize=(10, 10))\n",
    "# plot the horizontal bar chart on the axis object\n",
    "effect_df.plot(kind='barh', ax=ax)\n",
    "# Remove minor ticks from the plot\n",
    "plt.title(\"Multiplicative effect on odds of approval\")\n",
    "plt.axvline(x=0.5, color='k', linestyle='--')\n",
    "plt.minorticks_off()\n",
    "plt.show()"
   ]
  },
  {
   "cell_type": "code",
   "execution_count": 63,
   "metadata": {},
   "outputs": [
    {
     "name": "stdout",
     "output_type": "stream",
     "text": [
      "Train Score: 0.807\n",
      "Test Score: 0.844\n",
      "Baseline Score: 0.692\n"
     ]
    }
   ],
   "source": [
    "print(f'Train Score: {logreg.score(X_train,y_train):.3f}')\n",
    "print(f'Test Score: {logreg.score(X_test,y_test):.3f}')\n",
    "print(f'Baseline Score: {loan_df.Loan_Status.value_counts(normalize=True).max():.3f}')"
   ]
  },
  {
   "cell_type": "code",
   "execution_count": 64,
   "metadata": {},
   "outputs": [
    {
     "name": "stdout",
     "output_type": "stream",
     "text": [
      "This model is accurately predicting approval at a rate of 80.7% (against a baseline of 69.2%).\n"
     ]
    }
   ],
   "source": [
    "print(f\"This model is accurately predicting approval at a rate of {100*logreg.score(X_train,y_train):.1f}% (against a baseline of {100*loan_df.Loan_Status.value_counts(normalize=True).max():.1f}%).\")"
   ]
  },
  {
   "cell_type": "code",
   "execution_count": 65,
   "metadata": {},
   "outputs": [
    {
     "data": {
      "image/png": "[encoded data removed]",
      "text/plain": [
       "<Figure size 600x370.8 with 2 Axes>"
      ]
     },
     "metadata": {},
     "output_type": "display_data"
    }
   ],
   "source": [
    "plot_confusion_matrix(logreg, X, y);"
   ]
  },
  {
   "cell_type": "markdown",
   "metadata": {},
   "source": [
    "This model is most likely to get its predictions correct (80%) but if it is going to make an error, it is far more likely to predict someone getting approved when they shouldn't."
   ]
  },
  {
   "cell_type": "code",
   "execution_count": 66,
   "metadata": {},
   "outputs": [
    {
     "data": {
      "image/png": "[encoded data removed]",
      "text/plain": [
       "<Figure size 600x370.8 with 1 Axes>"
      ]
     },
     "metadata": {},
     "output_type": "display_data"
    }
   ],
   "source": [
    "from sklearn.metrics import roc_curve\n",
    "\n",
    "# Find the probabilities for each data point\n",
    "y_pred_proba = logreg.predict_proba(X)[::,1]\n",
    "\n",
    "# find false positive and true positive rate\n",
    "fpr, tpr, _ = roc_curve(y,  y_pred_proba)\n",
    "\n",
    "#create ROC curve\n",
    "plt.plot(fpr,tpr)\n",
    "plt.ylabel('True Positive Rate')\n",
    "plt.xlabel('False Positive Rate')\n",
    "plt.show()"
   ]
  },
  {
   "cell_type": "code",
   "execution_count": 67,
   "metadata": {},
   "outputs": [
    {
     "name": "stdout",
     "output_type": "stream",
     "text": [
      "0.7913546076196678\n"
     ]
    }
   ],
   "source": [
    "auc = roc_auc_score(y, y_pred_proba)\n",
    "print(auc)"
   ]
  },
  {
   "cell_type": "code",
   "execution_count": 68,
   "metadata": {},
   "outputs": [
    {
     "name": "stdout",
     "output_type": "stream",
     "text": [
      "At 79.1%, this model is fairly good at making predictions.\n"
     ]
    }
   ],
   "source": [
    "print(f\"At {100*auc:.1f}%, this model is fairly good at making predictions.\")"
   ]
  }
 ],
 "metadata": {
  "kernelspec": {
   "display_name": "Python 3",
   "language": "python",
   "name": "python3"
  },
  "language_info": {
   "codemirror_mode": {
    "name": "ipython",
    "version": 3
   },
   "file_extension": ".py",
   "mimetype": "text/x-python",
   "name": "python",
   "nbconvert_exporter": "python",
   "pygments_lexer": "ipython3",
   "version": "3.8.5"
  },
  "vscode": {
   "interpreter": {
    "hash": "afa3c442499fd9da0ee35c63b243f2f3571f3472317900c7ae81478103e873e5"
   }
  }
 },
 "nbformat": 4,
 "nbformat_minor": 4
}
