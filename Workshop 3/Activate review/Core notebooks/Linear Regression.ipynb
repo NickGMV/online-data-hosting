{
 "cells": [
  {
   "cell_type": "markdown",
   "metadata": {},
   "source": [
    "# Linear Regression\n",
    "\n",
    "It is time for the main event, we are going to build our first predictive model!\n",
    "\n",
    "The simplest model to build is linear regression. Think back to whenever you have plotted a scatter plot and were asked to draw a line of best fit, this is essentially what linear regression does- it finds the line which best describes the data. We can then use the output to either evaluate the impact a a predictive feature has had on our target, or even predict what a future value may be!\n",
    "\n",
    "Let's import our college data and start building a model to predict graduation rates."
   ]
  },
  {
   "cell_type": "code",
   "execution_count": 1,
   "metadata": {},
   "outputs": [],
   "source": [
    "import pandas as pd\n",
    "import matplotlib.pyplot as plt"
   ]
  },
  {
   "cell_type": "code",
   "execution_count": 2,
   "metadata": {},
   "outputs": [
    {
     "data": {
      "text/html": [
       "<div>\n",
       "<style scoped>\n",
       "    .dataframe tbody tr th:only-of-type {\n",
       "        vertical-align: middle;\n",
       "    }\n",
       "\n",
       "    .dataframe tbody tr th {\n",
       "        vertical-align: top;\n",
       "    }\n",
       "\n",
       "    .dataframe thead th {\n",
       "        text-align: right;\n",
       "    }\n",
       "</style>\n",
       "<table border=\"1\" class=\"dataframe\">\n",
       "  <thead>\n",
       "    <tr style=\"text-align: right;\">\n",
       "      <th></th>\n",
       "      <th>College</th>\n",
       "      <th>Private</th>\n",
       "      <th>Apps</th>\n",
       "      <th>Accept</th>\n",
       "      <th>Enroll</th>\n",
       "      <th>Top10perc</th>\n",
       "      <th>Top25perc</th>\n",
       "      <th>F.Undergrad</th>\n",
       "      <th>P.Undergrad</th>\n",
       "      <th>Outstate</th>\n",
       "      <th>Room.Board</th>\n",
       "      <th>Books</th>\n",
       "      <th>Personal</th>\n",
       "      <th>PhD</th>\n",
       "      <th>Terminal</th>\n",
       "      <th>S.F.Ratio</th>\n",
       "      <th>perc.alumni</th>\n",
       "      <th>Expend</th>\n",
       "      <th>Grad.Rate</th>\n",
       "    </tr>\n",
       "  </thead>\n",
       "  <tbody>\n",
       "    <tr>\n",
       "      <th>0</th>\n",
       "      <td>Abilene Christian University</td>\n",
       "      <td>Yes</td>\n",
       "      <td>1660</td>\n",
       "      <td>1232</td>\n",
       "      <td>721</td>\n",
       "      <td>23</td>\n",
       "      <td>52</td>\n",
       "      <td>2885</td>\n",
       "      <td>537</td>\n",
       "      <td>7440</td>\n",
       "      <td>3300</td>\n",
       "      <td>450</td>\n",
       "      <td>2200</td>\n",
       "      <td>70</td>\n",
       "      <td>78</td>\n",
       "      <td>18.1</td>\n",
       "      <td>12</td>\n",
       "      <td>7041</td>\n",
       "      <td>60</td>\n",
       "    </tr>\n",
       "    <tr>\n",
       "      <th>1</th>\n",
       "      <td>Adelphi University</td>\n",
       "      <td>Yes</td>\n",
       "      <td>2186</td>\n",
       "      <td>1924</td>\n",
       "      <td>512</td>\n",
       "      <td>16</td>\n",
       "      <td>29</td>\n",
       "      <td>2683</td>\n",
       "      <td>1227</td>\n",
       "      <td>12280</td>\n",
       "      <td>6450</td>\n",
       "      <td>750</td>\n",
       "      <td>1500</td>\n",
       "      <td>29</td>\n",
       "      <td>30</td>\n",
       "      <td>12.2</td>\n",
       "      <td>16</td>\n",
       "      <td>10527</td>\n",
       "      <td>56</td>\n",
       "    </tr>\n",
       "    <tr>\n",
       "      <th>2</th>\n",
       "      <td>Adrian College</td>\n",
       "      <td>Yes</td>\n",
       "      <td>1428</td>\n",
       "      <td>1097</td>\n",
       "      <td>336</td>\n",
       "      <td>22</td>\n",
       "      <td>50</td>\n",
       "      <td>1036</td>\n",
       "      <td>99</td>\n",
       "      <td>11250</td>\n",
       "      <td>3750</td>\n",
       "      <td>400</td>\n",
       "      <td>1165</td>\n",
       "      <td>53</td>\n",
       "      <td>66</td>\n",
       "      <td>12.9</td>\n",
       "      <td>30</td>\n",
       "      <td>8735</td>\n",
       "      <td>54</td>\n",
       "    </tr>\n",
       "    <tr>\n",
       "      <th>3</th>\n",
       "      <td>Agnes Scott College</td>\n",
       "      <td>Yes</td>\n",
       "      <td>417</td>\n",
       "      <td>349</td>\n",
       "      <td>137</td>\n",
       "      <td>60</td>\n",
       "      <td>89</td>\n",
       "      <td>510</td>\n",
       "      <td>63</td>\n",
       "      <td>12960</td>\n",
       "      <td>5450</td>\n",
       "      <td>450</td>\n",
       "      <td>875</td>\n",
       "      <td>92</td>\n",
       "      <td>97</td>\n",
       "      <td>7.7</td>\n",
       "      <td>37</td>\n",
       "      <td>19016</td>\n",
       "      <td>59</td>\n",
       "    </tr>\n",
       "    <tr>\n",
       "      <th>4</th>\n",
       "      <td>Alaska Pacific University</td>\n",
       "      <td>Yes</td>\n",
       "      <td>193</td>\n",
       "      <td>146</td>\n",
       "      <td>55</td>\n",
       "      <td>16</td>\n",
       "      <td>44</td>\n",
       "      <td>249</td>\n",
       "      <td>869</td>\n",
       "      <td>7560</td>\n",
       "      <td>4120</td>\n",
       "      <td>800</td>\n",
       "      <td>1500</td>\n",
       "      <td>76</td>\n",
       "      <td>72</td>\n",
       "      <td>11.9</td>\n",
       "      <td>2</td>\n",
       "      <td>10922</td>\n",
       "      <td>15</td>\n",
       "    </tr>\n",
       "  </tbody>\n",
       "</table>\n",
       "</div>"
      ],
      "text/plain": [
       "                        College Private  Apps  Accept  Enroll  Top10perc  \\\n",
       "0  Abilene Christian University     Yes  1660    1232     721         23   \n",
       "1            Adelphi University     Yes  2186    1924     512         16   \n",
       "2                Adrian College     Yes  1428    1097     336         22   \n",
       "3           Agnes Scott College     Yes   417     349     137         60   \n",
       "4     Alaska Pacific University     Yes   193     146      55         16   \n",
       "\n",
       "   Top25perc  F.Undergrad  P.Undergrad  Outstate  Room.Board  Books  Personal  \\\n",
       "0         52         2885          537      7440        3300    450      2200   \n",
       "1         29         2683         1227     12280        6450    750      1500   \n",
       "2         50         1036           99     11250        3750    400      1165   \n",
       "3         89          510           63     12960        5450    450       875   \n",
       "4         44          249          869      7560        4120    800      1500   \n",
       "\n",
       "   PhD  Terminal  S.F.Ratio  perc.alumni  Expend  Grad.Rate  \n",
       "0   70        78       18.1           12    7041         60  \n",
       "1   29        30       12.2           16   10527         56  \n",
       "2   53        66       12.9           30    8735         54  \n",
       "3   92        97        7.7           37   19016         59  \n",
       "4   76        72       11.9            2   10922         15  "
      ]
     },
     "execution_count": 2,
     "metadata": {},
     "output_type": "execute_result"
    }
   ],
   "source": [
    "college=pd.read_csv('college_data.csv')\n",
    "college.head()"
   ]
  },
  {
   "cell_type": "markdown",
   "metadata": {},
   "source": [
    "In this lesson we are going to build a model which predicts graduation rates given how much the college is spending per learner. Let's take a look at the data:"
   ]
  },
  {
   "cell_type": "code",
   "execution_count": 4,
   "metadata": {},
   "outputs": [
    {
     "data": {
      "image/png": "[encoded data removed]",
      "text/plain": [
       "<Figure size 864x576 with 1 Axes>"
      ]
     },
     "metadata": {
      "needs_background": "light"
     },
     "output_type": "display_data"
    }
   ],
   "source": [
    "fig, ax = plt.subplots(figsize=(12, 8))\n",
    "ax.plot(college.Expend, college['Grad.Rate'], '.')\n",
    "ax.set_xlabel('Expenditure ($)')\n",
    "ax.set_ylabel('Graduation Rate (%)')\n",
    "plt.plot();"
   ]
  },
  {
   "cell_type": "markdown",
   "metadata": {},
   "source": [
    "There are several libraries we can use for making models, but the one we will be focussing on is sklearn. An advantage of sklearn is how consistent its syntax is across all possible models in the library, how you code linear regression (the simplest model) is the same how you would code more sophisticated models (although the EDA process will be different).\n",
    "\n",
    "The first thing we will need to do is extract our target (what we are predicting) as a <b>series</b> and our predictor(s) as a matrix (dataframe).\n",
    "\n",
    "For now let's build a model with this one predictor."
   ]
  },
  {
   "cell_type": "code",
   "execution_count": 8,
   "metadata": {},
   "outputs": [],
   "source": [
    "# target series\n",
    "y=college['Grad.Rate']\n",
    "\n",
    "# predictor matrix\n",
    "\n",
    "X=college[['Expend']]\n",
    "\n",
    "# Note the usual naming convention - y for target and X for predictors"
   ]
  },
  {
   "cell_type": "markdown",
   "metadata": {},
   "source": [
    "Now we import the function from the sklearn library:"
   ]
  },
  {
   "cell_type": "code",
   "execution_count": 9,
   "metadata": {},
   "outputs": [],
   "source": [
    "from sklearn.linear_model import LinearRegression"
   ]
  },
  {
   "cell_type": "markdown",
   "metadata": {},
   "source": [
    "Next we create the instance for the model:"
   ]
  },
  {
   "cell_type": "code",
   "execution_count": 10,
   "metadata": {},
   "outputs": [],
   "source": [
    "lr=LinearRegression()"
   ]
  },
  {
   "cell_type": "markdown",
   "metadata": {},
   "source": [
    "We now have a 'skeleton' of a model. Python knows that we intend to use linear regression, but it doesn't have any data. We need to now fit the data to the model."
   ]
  },
  {
   "cell_type": "code",
   "execution_count": 11,
   "metadata": {},
   "outputs": [
    {
     "data": {
      "text/plain": [
       "LinearRegression()"
      ]
     },
     "execution_count": 11,
     "metadata": {},
     "output_type": "execute_result"
    }
   ],
   "source": [
    "lr.fit(X,y)"
   ]
  },
  {
   "cell_type": "markdown",
   "metadata": {},
   "source": [
    "And that's it! We have built our first model!\n",
    "\n",
    "But how do we use it?\n",
    "\n",
    "One thing we can do is look at the outputs. The intercept is what value the model will predict when the predictor is equal to 0."
   ]
  },
  {
   "cell_type": "code",
   "execution_count": 12,
   "metadata": {},
   "outputs": [
    {
     "data": {
      "text/plain": [
       "52.93845803578205"
      ]
     },
     "execution_count": 12,
     "metadata": {},
     "output_type": "execute_result"
    }
   ],
   "source": [
    "lr.intercept_"
   ]
  },
  {
   "cell_type": "markdown",
   "metadata": {},
   "source": [
    "According to our model, if a college spends $0 per student, the graduation rate will be roughly 53%. \n",
    "\n",
    "We can also look at the predictor's coefficient, which we interpret as the effect it has on what we are predicting:"
   ]
  },
  {
   "cell_type": "code",
   "execution_count": 13,
   "metadata": {},
   "outputs": [
    {
     "data": {
      "text/plain": [
       "array([0.0012892])"
      ]
     },
     "execution_count": 13,
     "metadata": {},
     "output_type": "execute_result"
    }
   ],
   "source": [
    "lr.coef_"
   ]
  },
  {
   "cell_type": "markdown",
   "metadata": {},
   "source": [
    "According to our model, for every $1 a college spends per student the graduation rate goes up by 0.001%."
   ]
  },
  {
   "cell_type": "markdown",
   "metadata": {},
   "source": [
    "### Practice\n",
    "\n",
    "Load in the Ames housing data you explored in the previous section. Build a linear model that predicts sale price given the year the number of full bathrooms it has. Interpret the coefficient and intercept of the model in the context of the data."
   ]
  },
  {
   "cell_type": "code",
   "execution_count": 14,
   "metadata": {},
   "outputs": [
    {
     "data": {
      "text/html": [
       "<div>\n",
       "<style scoped>\n",
       "    .dataframe tbody tr th:only-of-type {\n",
       "        vertical-align: middle;\n",
       "    }\n",
       "\n",
       "    .dataframe tbody tr th {\n",
       "        vertical-align: top;\n",
       "    }\n",
       "\n",
       "    .dataframe thead th {\n",
       "        text-align: right;\n",
       "    }\n",
       "</style>\n",
       "<table border=\"1\" class=\"dataframe\">\n",
       "  <thead>\n",
       "    <tr style=\"text-align: right;\">\n",
       "      <th></th>\n",
       "      <th>SalePrice</th>\n",
       "      <th>LotFrontage</th>\n",
       "      <th>LotArea</th>\n",
       "      <th>YearBuilt</th>\n",
       "      <th>FullBath</th>\n",
       "      <th>HalfBath</th>\n",
       "      <th>BedroomAbvGr</th>\n",
       "      <th>GarageCars</th>\n",
       "      <th>GarageArea</th>\n",
       "      <th>Utilities_NoSeWa</th>\n",
       "      <th>...</th>\n",
       "      <th>Neighborhood_NoRidge</th>\n",
       "      <th>Neighborhood_NridgHt</th>\n",
       "      <th>Neighborhood_OldTown</th>\n",
       "      <th>Neighborhood_SWISU</th>\n",
       "      <th>Neighborhood_Sawyer</th>\n",
       "      <th>Neighborhood_SawyerW</th>\n",
       "      <th>Neighborhood_Somerst</th>\n",
       "      <th>Neighborhood_StoneBr</th>\n",
       "      <th>Neighborhood_Timber</th>\n",
       "      <th>Neighborhood_Veenker</th>\n",
       "    </tr>\n",
       "  </thead>\n",
       "  <tbody>\n",
       "    <tr>\n",
       "      <th>0</th>\n",
       "      <td>208500</td>\n",
       "      <td>65.0</td>\n",
       "      <td>8450</td>\n",
       "      <td>2003</td>\n",
       "      <td>2</td>\n",
       "      <td>1</td>\n",
       "      <td>3</td>\n",
       "      <td>2</td>\n",
       "      <td>548</td>\n",
       "      <td>0</td>\n",
       "      <td>...</td>\n",
       "      <td>0</td>\n",
       "      <td>0</td>\n",
       "      <td>0</td>\n",
       "      <td>0</td>\n",
       "      <td>0</td>\n",
       "      <td>0</td>\n",
       "      <td>0</td>\n",
       "      <td>0</td>\n",
       "      <td>0</td>\n",
       "      <td>0</td>\n",
       "    </tr>\n",
       "    <tr>\n",
       "      <th>1</th>\n",
       "      <td>181500</td>\n",
       "      <td>80.0</td>\n",
       "      <td>9600</td>\n",
       "      <td>1976</td>\n",
       "      <td>2</td>\n",
       "      <td>0</td>\n",
       "      <td>3</td>\n",
       "      <td>2</td>\n",
       "      <td>460</td>\n",
       "      <td>0</td>\n",
       "      <td>...</td>\n",
       "      <td>0</td>\n",
       "      <td>0</td>\n",
       "      <td>0</td>\n",
       "      <td>0</td>\n",
       "      <td>0</td>\n",
       "      <td>0</td>\n",
       "      <td>0</td>\n",
       "      <td>0</td>\n",
       "      <td>0</td>\n",
       "      <td>1</td>\n",
       "    </tr>\n",
       "    <tr>\n",
       "      <th>2</th>\n",
       "      <td>223500</td>\n",
       "      <td>68.0</td>\n",
       "      <td>11250</td>\n",
       "      <td>2001</td>\n",
       "      <td>2</td>\n",
       "      <td>1</td>\n",
       "      <td>3</td>\n",
       "      <td>2</td>\n",
       "      <td>608</td>\n",
       "      <td>0</td>\n",
       "      <td>...</td>\n",
       "      <td>0</td>\n",
       "      <td>0</td>\n",
       "      <td>0</td>\n",
       "      <td>0</td>\n",
       "      <td>0</td>\n",
       "      <td>0</td>\n",
       "      <td>0</td>\n",
       "      <td>0</td>\n",
       "      <td>0</td>\n",
       "      <td>0</td>\n",
       "    </tr>\n",
       "    <tr>\n",
       "      <th>3</th>\n",
       "      <td>140000</td>\n",
       "      <td>60.0</td>\n",
       "      <td>9550</td>\n",
       "      <td>1915</td>\n",
       "      <td>1</td>\n",
       "      <td>0</td>\n",
       "      <td>3</td>\n",
       "      <td>3</td>\n",
       "      <td>642</td>\n",
       "      <td>0</td>\n",
       "      <td>...</td>\n",
       "      <td>0</td>\n",
       "      <td>0</td>\n",
       "      <td>0</td>\n",
       "      <td>0</td>\n",
       "      <td>0</td>\n",
       "      <td>0</td>\n",
       "      <td>0</td>\n",
       "      <td>0</td>\n",
       "      <td>0</td>\n",
       "      <td>0</td>\n",
       "    </tr>\n",
       "    <tr>\n",
       "      <th>4</th>\n",
       "      <td>250000</td>\n",
       "      <td>84.0</td>\n",
       "      <td>14260</td>\n",
       "      <td>2000</td>\n",
       "      <td>2</td>\n",
       "      <td>1</td>\n",
       "      <td>4</td>\n",
       "      <td>3</td>\n",
       "      <td>836</td>\n",
       "      <td>0</td>\n",
       "      <td>...</td>\n",
       "      <td>1</td>\n",
       "      <td>0</td>\n",
       "      <td>0</td>\n",
       "      <td>0</td>\n",
       "      <td>0</td>\n",
       "      <td>0</td>\n",
       "      <td>0</td>\n",
       "      <td>0</td>\n",
       "      <td>0</td>\n",
       "      <td>0</td>\n",
       "    </tr>\n",
       "  </tbody>\n",
       "</table>\n",
       "<p>5 rows × 34 columns</p>\n",
       "</div>"
      ],
      "text/plain": [
       "   SalePrice  LotFrontage  LotArea  YearBuilt  FullBath  HalfBath  \\\n",
       "0     208500         65.0     8450       2003         2         1   \n",
       "1     181500         80.0     9600       1976         2         0   \n",
       "2     223500         68.0    11250       2001         2         1   \n",
       "3     140000         60.0     9550       1915         1         0   \n",
       "4     250000         84.0    14260       2000         2         1   \n",
       "\n",
       "   BedroomAbvGr  GarageCars  GarageArea  Utilities_NoSeWa  ...  \\\n",
       "0             3           2         548                 0  ...   \n",
       "1             3           2         460                 0  ...   \n",
       "2             3           2         608                 0  ...   \n",
       "3             3           3         642                 0  ...   \n",
       "4             4           3         836                 0  ...   \n",
       "\n",
       "   Neighborhood_NoRidge  Neighborhood_NridgHt  Neighborhood_OldTown  \\\n",
       "0                     0                     0                     0   \n",
       "1                     0                     0                     0   \n",
       "2                     0                     0                     0   \n",
       "3                     0                     0                     0   \n",
       "4                     1                     0                     0   \n",
       "\n",
       "   Neighborhood_SWISU  Neighborhood_Sawyer  Neighborhood_SawyerW  \\\n",
       "0                   0                    0                     0   \n",
       "1                   0                    0                     0   \n",
       "2                   0                    0                     0   \n",
       "3                   0                    0                     0   \n",
       "4                   0                    0                     0   \n",
       "\n",
       "   Neighborhood_Somerst  Neighborhood_StoneBr  Neighborhood_Timber  \\\n",
       "0                     0                     0                    0   \n",
       "1                     0                     0                    0   \n",
       "2                     0                     0                    0   \n",
       "3                     0                     0                    0   \n",
       "4                     0                     0                    0   \n",
       "\n",
       "   Neighborhood_Veenker  \n",
       "0                     0  \n",
       "1                     1  \n",
       "2                     0  \n",
       "3                     0  \n",
       "4                     0  \n",
       "\n",
       "[5 rows x 34 columns]"
      ]
     },
     "execution_count": 14,
     "metadata": {},
     "output_type": "execute_result"
    }
   ],
   "source": [
    "house_df=pd.read_csv('house_clean.csv')\n",
    "house_df.head()"
   ]
  },
  {
   "cell_type": "code",
   "execution_count": null,
   "metadata": {},
   "outputs": [],
   "source": []
  },
  {
   "cell_type": "markdown",
   "metadata": {},
   "source": [
    "## Multiple features\n",
    "\n",
    "In the previous example we only used one predictor, but there is actually no limit to how many we can use. Let's build another model that will predict graduation rate when given a college's expenditure per student and what percentage of students they had that were in the top 10% of their class."
   ]
  },
  {
   "cell_type": "code",
   "execution_count": 19,
   "metadata": {},
   "outputs": [],
   "source": [
    "# New predictor matrix (we'll use the same target series as before)\n",
    "y = college['Grad.Rate']\n",
    "X2=college[['Top10perc','Expend']]"
   ]
  },
  {
   "cell_type": "code",
   "execution_count": 20,
   "metadata": {},
   "outputs": [
    {
     "data": {
      "text/plain": [
       "LinearRegression()"
      ]
     },
     "execution_count": 20,
     "metadata": {},
     "output_type": "execute_result"
    }
   ],
   "source": [
    "lr2=LinearRegression()\n",
    "lr2.fit(X2,y)"
   ]
  },
  {
   "cell_type": "markdown",
   "metadata": {},
   "source": [
    "It is that easy to build a model, you just add as many predictors as you would like to the matrix. Let's see what happens with the outputs this time:"
   ]
  },
  {
   "cell_type": "code",
   "execution_count": 21,
   "metadata": {},
   "outputs": [
    {
     "data": {
      "text/plain": [
       "50.4327718549085"
      ]
     },
     "execution_count": 21,
     "metadata": {},
     "output_type": "execute_result"
    }
   ],
   "source": [
    "lr2.intercept_\n",
    "\n",
    "# What do you think this value means?"
   ]
  },
  {
   "cell_type": "markdown",
   "metadata": {},
   "source": [
    "Click to reveal answer\n",
    "\n",
    "<p style=color:white> If a college spends $0 per student and has no students in the top 10% of their class, the graduation rate (according to the model) will be 50.4%. </p>"
   ]
  },
  {
   "cell_type": "code",
   "execution_count": 22,
   "metadata": {},
   "outputs": [
    {
     "data": {
      "text/plain": [
       "array([4.16152038e-01, 3.60597293e-04])"
      ]
     },
     "execution_count": 22,
     "metadata": {},
     "output_type": "execute_result"
    }
   ],
   "source": [
    "lr2.coef_\n",
    "\n",
    "# What do you think these values mean?"
   ]
  },
  {
   "cell_type": "markdown",
   "metadata": {},
   "source": [
    "Click to reveal answer\n",
    "\n",
    "<p style=color:white>The order of the values printed is the same as the order defined in the predictor matrix. So in this case, for every 1% increase in the precentage of students in the top 10% of their high school class, the graduation rate will increase by 0.4%. For every $1 a college spends on a student, the graduation rate (according to our model) will increase by 0.00036%.</p>\n",
    "\n",
    "To help interpret coefficients (especially if trying to evaluate which is the most influential) it is an idea to build a dataframe which matches the coefficient to the target and then sort it by effect size. This is particularly useful if you are using a lot of features."
   ]
  },
  {
   "cell_type": "code",
   "execution_count": 24,
   "metadata": {},
   "outputs": [
    {
     "data": {
      "text/html": [
       "<div>\n",
       "<style scoped>\n",
       "    .dataframe tbody tr th:only-of-type {\n",
       "        vertical-align: middle;\n",
       "    }\n",
       "\n",
       "    .dataframe tbody tr th {\n",
       "        vertical-align: top;\n",
       "    }\n",
       "\n",
       "    .dataframe thead th {\n",
       "        text-align: right;\n",
       "    }\n",
       "</style>\n",
       "<table border=\"1\" class=\"dataframe\">\n",
       "  <thead>\n",
       "    <tr style=\"text-align: right;\">\n",
       "      <th></th>\n",
       "      <th>Effect Size on Graduation Rate (%)</th>\n",
       "    </tr>\n",
       "    <tr>\n",
       "      <th>Features</th>\n",
       "      <th></th>\n",
       "    </tr>\n",
       "  </thead>\n",
       "  <tbody>\n",
       "    <tr>\n",
       "      <th>Top10perc</th>\n",
       "      <td>0.416152</td>\n",
       "    </tr>\n",
       "    <tr>\n",
       "      <th>Expend</th>\n",
       "      <td>0.000361</td>\n",
       "    </tr>\n",
       "  </tbody>\n",
       "</table>\n",
       "</div>"
      ],
      "text/plain": [
       "           Effect Size on Graduation Rate (%)\n",
       "Features                                     \n",
       "Top10perc                            0.416152\n",
       "Expend                               0.000361"
      ]
     },
     "execution_count": 24,
     "metadata": {},
     "output_type": "execute_result"
    }
   ],
   "source": [
    "coef_df = pd.DataFrame(\n",
    "    {'Features': X2.columns, 'Effect Size on Graduation Rate (%)': lr2.coef_}).set_index('Features')\n",
    "coef_df"
   ]
  },
  {
   "cell_type": "code",
   "execution_count": 28,
   "metadata": {},
   "outputs": [
    {
     "data": {
      "image/png": "[encoded data removed]",
      "text/plain": [
       "<Figure size 432x288 with 1 Axes>"
      ]
     },
     "metadata": {
      "needs_background": "light"
     },
     "output_type": "display_data"
    }
   ],
   "source": [
    "coef_df.plot(kind='barh');"
   ]
  },
  {
   "cell_type": "markdown",
   "metadata": {},
   "source": [
    "This allows us to clearly see that Top10perc is a much more influential feature than how much a college is spending per student on graduation rates, according to this model. But how reliable is this?"
   ]
  },
  {
   "cell_type": "markdown",
   "metadata": {},
   "source": [
    "### Practice\n",
    "\n",
    "Build a second model using the Ames housing dataset that predicts sale price given number of full bathrooms, number of bedrooms and size of the garage. Which feature is the most influential in predicting sale price according to your model?"
   ]
  },
  {
   "cell_type": "code",
   "execution_count": null,
   "metadata": {},
   "outputs": [],
   "source": []
  },
  {
   "cell_type": "markdown",
   "metadata": {},
   "source": [
    "## Making a prediction"
   ]
  },
  {
   "cell_type": "markdown",
   "metadata": {},
   "source": [
    "Evaluating the effect a feature has on a prediction is a useful application of a linear model, but what about using it to make a prediction? If we already know the value of the intercept (value target feature takes if all predictors are 0) and the coefficients (effect each predictor has on the target) we can then make predictions.\n",
    "\n",
    "You may remember from when you were at school that the equation for a straight line is\n",
    "\n",
    "<p style=font-size:24pt>$y$ = $m$$x$ + $c$</p>\n",
    "\n",
    "Where m is the gradient and c is the intercept. With linear regression then, c is still the intercept while m is the value of the coefficient. We then write the formula as:\n",
    "\n",
    "<p style=font-size:24pt>$\\hat{y}$ = $\\beta$$_0$ + $\\beta$$_1$$x$$_1$ </p> \n",
    "\n",
    "Where $\\beta$$_0$ is the intercept and $\\beta$$_1$ is the value of the coefficient for the predictor $x$$_1$. $\\hat{a}$ is the prediction.\n",
    "\n",
    "So in our example if would be:\n",
    "\n",
    "Predicted graduation rate  = $\\beta$$_0$ + $\\beta$$_1$ $\\times$ Expenditure per student \n",
    "\n",
    "For example, a college speds $22239 per student, we can use our model to make the following prediction:"
   ]
  },
  {
   "cell_type": "code",
   "execution_count": 157,
   "metadata": {},
   "outputs": [
    {
     "data": {
      "text/plain": [
       "81.60899145475051"
      ]
     },
     "execution_count": 157,
     "metadata": {},
     "output_type": "execute_result"
    }
   ],
   "source": [
    "lr.intercept_ + 22239 * lr.coef_[0]"
   ]
  },
  {
   "cell_type": "markdown",
   "metadata": {},
   "source": [
    "What if we also knew that 13% of their learners came from the top 10% of their high school class?\n",
    "\n",
    "We just expand the formula:\n",
    "\n",
    "<p style=font-size:24pt>$\\hat{y}$ = $\\beta$$_0$ + $\\beta$$_1$$x$$_1$ + $\\beta$$_2$$x$$_2$ + ...</p> \n",
    "\n",
    "So our formula would be:\n",
    "\n",
    "Predicted graduation rate = $\\beta$$_0$ + $\\beta$$_1$ $\\times$ % in top 10% of h.s + $\\beta$$_2$ $\\times$ expenditure per student\n"
   ]
  },
  {
   "cell_type": "code",
   "execution_count": 158,
   "metadata": {},
   "outputs": [
    {
     "data": {
      "text/plain": [
       "63.86207154503297"
      ]
     },
     "execution_count": 158,
     "metadata": {},
     "output_type": "execute_result"
    }
   ],
   "source": [
    "lr2.intercept_ + 13 * lr2.coef_[0] + 22239 * lr2.coef_[1]"
   ]
  },
  {
   "cell_type": "markdown",
   "metadata": {},
   "source": [
    "Notice that the order of coefficients matched the order of the features in the original predictor matrix. This however is a tedious way of performing this prediction, it would be simpler to use the inbuilt `.predict()` function instead."
   ]
  },
  {
   "cell_type": "code",
   "execution_count": 44,
   "metadata": {},
   "outputs": [
    {
     "name": "stdout",
     "output_type": "stream",
     "text": [
      "Predicted graduation rate: [81.60899145]\n",
      "Predicted graduation rate: [63.86207155]\n"
     ]
    }
   ],
   "source": [
    "# model 1\n",
    "\n",
    "print('Predicted graduation rate: '+str(lr.predict([[22239]])))\n",
    "\n",
    "# model 2\n",
    "\n",
    "print('Predicted graduation rate: '+str(lr2.predict([[13,22239]])))"
   ]
  },
  {
   "cell_type": "markdown",
   "metadata": {},
   "source": [
    "Notice in both cases that what was passed into the function was a dataframe (like the original predictor matrix) and that the order of features was the same as well. This function works for any number of new data you want to predict, just add it to the matrix!"
   ]
  },
  {
   "cell_type": "code",
   "execution_count": 161,
   "metadata": {},
   "outputs": [
    {
     "data": {
      "text/plain": [
       "array([55.55811377, 56.07637244, 65.0350278 , 69.59750893])"
      ]
     },
     "execution_count": 161,
     "metadata": {},
     "output_type": "execute_result"
    }
   ],
   "source": [
    "new_vals=[[2032],[2434],[9383],[12922]]\n",
    "lr.predict(new_vals)"
   ]
  },
  {
   "cell_type": "markdown",
   "metadata": {},
   "source": [
    "### Practice\n",
    "\n",
    "A house comes to market with 3 full bathrooms, 4 bedrooms and a garage that can fit one car. Using both models predict what the saleprice will be."
   ]
  },
  {
   "cell_type": "code",
   "execution_count": null,
   "metadata": {},
   "outputs": [],
   "source": []
  },
  {
   "cell_type": "markdown",
   "metadata": {},
   "source": [
    "## Evaluating a model\n",
    "\n",
    "A linear regression model works by trying to find a pattern between the predictors and the target feature. However, there is going to be some error, the formula for linear regression is actually:\n",
    "\n",
    "\n",
    "<p style=font-size:24pt>$\\hat{y}$ = $\\beta$$_0$ + $\\beta$$_1$$x$$_1$ + $\\epsilon$ </p> \n",
    "\n",
    "Where $\\epsilon$ is the error, or residuals. We want our model to minimise this value and to assess this we need some evaluation metrics.\n",
    "\n",
    "\n",
    "### Compare predictions vs actual values\n",
    "\n",
    "The simplest method would be to compare what the model predicts vs actual values. We can do this by running our predictor matrix through the model and receiving a set of predictions, we can then compare these to our target series to see how accurate they were:"
   ]
  },
  {
   "cell_type": "code",
   "execution_count": 30,
   "metadata": {},
   "outputs": [],
   "source": [
    "actuals=college['Grad.Rate'] # this is the same as our target series\n",
    "preds=lr.predict(X) #predicted values"
   ]
  },
  {
   "cell_type": "code",
   "execution_count": 32,
   "metadata": {},
   "outputs": [
    {
     "data": {
      "text/html": [
       "<div>\n",
       "<style scoped>\n",
       "    .dataframe tbody tr th:only-of-type {\n",
       "        vertical-align: middle;\n",
       "    }\n",
       "\n",
       "    .dataframe tbody tr th {\n",
       "        vertical-align: top;\n",
       "    }\n",
       "\n",
       "    .dataframe thead th {\n",
       "        text-align: right;\n",
       "    }\n",
       "</style>\n",
       "<table border=\"1\" class=\"dataframe\">\n",
       "  <thead>\n",
       "    <tr style=\"text-align: right;\">\n",
       "      <th></th>\n",
       "      <th>Predicted Grad Rate</th>\n",
       "      <th>Actual Grad Rate</th>\n",
       "    </tr>\n",
       "    <tr>\n",
       "      <th>College</th>\n",
       "      <th></th>\n",
       "      <th></th>\n",
       "    </tr>\n",
       "  </thead>\n",
       "  <tbody>\n",
       "    <tr>\n",
       "      <th>Abilene Christian University</th>\n",
       "      <td>62.015720</td>\n",
       "      <td>60</td>\n",
       "    </tr>\n",
       "    <tr>\n",
       "      <th>Adelphi University</th>\n",
       "      <td>66.509873</td>\n",
       "      <td>56</td>\n",
       "    </tr>\n",
       "    <tr>\n",
       "      <th>Adrian College</th>\n",
       "      <td>64.199626</td>\n",
       "      <td>54</td>\n",
       "    </tr>\n",
       "    <tr>\n",
       "      <th>Agnes Scott College</th>\n",
       "      <td>77.453898</td>\n",
       "      <td>59</td>\n",
       "    </tr>\n",
       "    <tr>\n",
       "      <th>Alaska Pacific University</th>\n",
       "      <td>67.019108</td>\n",
       "      <td>15</td>\n",
       "    </tr>\n",
       "    <tr>\n",
       "      <th>...</th>\n",
       "      <td>...</td>\n",
       "      <td>...</td>\n",
       "    </tr>\n",
       "    <tr>\n",
       "      <th>Worcester State College</th>\n",
       "      <td>58.699896</td>\n",
       "      <td>40</td>\n",
       "    </tr>\n",
       "    <tr>\n",
       "      <th>Xavier University</th>\n",
       "      <td>64.784923</td>\n",
       "      <td>83</td>\n",
       "    </tr>\n",
       "    <tr>\n",
       "      <th>Xavier University of Louisiana</th>\n",
       "      <td>63.668475</td>\n",
       "      <td>49</td>\n",
       "    </tr>\n",
       "    <tr>\n",
       "      <th>Yale University</th>\n",
       "      <td>105.004116</td>\n",
       "      <td>99</td>\n",
       "    </tr>\n",
       "    <tr>\n",
       "      <th>York College of Pennsylvania</th>\n",
       "      <td>58.751464</td>\n",
       "      <td>99</td>\n",
       "    </tr>\n",
       "  </tbody>\n",
       "</table>\n",
       "<p>776 rows × 2 columns</p>\n",
       "</div>"
      ],
      "text/plain": [
       "                                Predicted Grad Rate  Actual Grad Rate\n",
       "College                                                              \n",
       "Abilene Christian University              62.015720                60\n",
       "Adelphi University                        66.509873                56\n",
       "Adrian College                            64.199626                54\n",
       "Agnes Scott College                       77.453898                59\n",
       "Alaska Pacific University                 67.019108                15\n",
       "...                                             ...               ...\n",
       "Worcester State College                   58.699896                40\n",
       "Xavier University                         64.784923                83\n",
       "Xavier University of Louisiana            63.668475                49\n",
       "Yale University                          105.004116                99\n",
       "York College of Pennsylvania              58.751464                99\n",
       "\n",
       "[776 rows x 2 columns]"
      ]
     },
     "execution_count": 32,
     "metadata": {},
     "output_type": "execute_result"
    }
   ],
   "source": [
    "compare_df = pd.DataFrame({'Predicted Grad Rate': preds,\n",
    "                          'Actual Grad Rate': actuals}).set_index(college.College)\n",
    "compare_df"
   ]
  },
  {
   "cell_type": "markdown",
   "metadata": {},
   "source": [
    "If the model was truly accurate then you would expect the predicted and actual values to be close. If we then plot these values against each other we should see a diagonal line."
   ]
  },
  {
   "cell_type": "code",
   "execution_count": 165,
   "metadata": {},
   "outputs": [
    {
     "data": {
      "image/png": "[encoded data removed]",
      "text/plain": [
       "<Figure size 432x288 with 1 Axes>"
      ]
     },
     "metadata": {
      "needs_background": "light"
     },
     "output_type": "display_data"
    }
   ],
   "source": [
    "compare_df.plot(x='Predicted Grad Rate',y='Actual Grad Rate',kind='scatter');"
   ]
  },
  {
   "cell_type": "markdown",
   "metadata": {},
   "source": [
    "This clearly isn't the case, which indicates that our model has made some mistakes- but how bad? This is where we bring in some metrics.\n",
    "\n",
    "The difference between a predicted value and actual value is called a residual and we want these to be minimised. Model building is an iterative process where we try different combinations of features and see which is best. We therefore need metrics for comparision.\n",
    "\n",
    "### RMSE\n",
    "\n",
    "In module 8 we met the root mean squared error, which tells us on average how far our predictions are off. We will use the same syntax as before: "
   ]
  },
  {
   "cell_type": "code",
   "execution_count": 33,
   "metadata": {},
   "outputs": [
    {
     "name": "stdout",
     "output_type": "stream",
     "text": [
      "15.690825015099598\n"
     ]
    }
   ],
   "source": [
    "from sklearn.metrics import mean_squared_error\n",
    "import numpy as np\n",
    "\n",
    "rmse=np.sqrt(mean_squared_error(preds,actuals))\n",
    "print(rmse)"
   ]
  },
  {
   "cell_type": "markdown",
   "metadata": {},
   "source": [
    "This means that our first model was off by an average of 15.7%, which given that the actual values range between 10 and 100 is a significant error. "
   ]
  },
  {
   "cell_type": "code",
   "execution_count": 1,
   "metadata": {},
   "outputs": [],
   "source": [
    "# Calculate and interpret the RMSE for model 2\n",
    "\n"
   ]
  },
  {
   "cell_type": "markdown",
   "metadata": {},
   "source": [
    "Click to reveal\n",
    "\n",
    "<p style=color:white> 14.69 -> the average error of predicted graduation rates is 14.7% </p>"
   ]
  },
  {
   "cell_type": "markdown",
   "metadata": {},
   "source": [
    "### MAE\n",
    "\n",
    "We also met the mean absolute error last module for evaluating how far our predictions are off."
   ]
  },
  {
   "cell_type": "code",
   "execution_count": 41,
   "metadata": {},
   "outputs": [
    {
     "name": "stdout",
     "output_type": "stream",
     "text": [
      "12.386463474868219\n"
     ]
    }
   ],
   "source": [
    "from sklearn.metrics import mean_absolute_error\n",
    "\n",
    "mae=mean_absolute_error(preds,actuals)\n",
    "print(mae)"
   ]
  },
  {
   "cell_type": "markdown",
   "metadata": {},
   "source": [
    "This gives a <i>slightly</i> better picture that our model is off on average by 12.4%."
   ]
  },
  {
   "cell_type": "code",
   "execution_count": 2,
   "metadata": {},
   "outputs": [],
   "source": [
    "# Calculate and interpret the MAE for model 2\n",
    "\n"
   ]
  },
  {
   "cell_type": "markdown",
   "metadata": {},
   "source": [
    "Click to reveal\n",
    "\n",
    "<p style=color:white> 11.573450351437222-> on average graduation rates have an error of 11.6% </p>"
   ]
  },
  {
   "cell_type": "markdown",
   "metadata": {},
   "source": [
    "### r-squared\n",
    "\n",
    "Both MAE and RMSE look at the difference between actual values and predictions, however, there is a different kind of test- r-squared. Essentially, this metric works by comparing your model to just guessing. \n",
    "\n",
    "More formally, it is a goodness-of-fit test that looks to explain how much of the variance in what you are predicting comes from your model. Whenever we build a predictive model we expect the target to be somewhat varied (e.g. a set of exam results ranging from 0 to 100) and we want to identify what factors lead to those results. For example, what led student A to get 87% but caused student B to get 34%? \n",
    "\n",
    "R-squared then is the metric that shows how much of the target variable's behaviour can be explained by the model that has been built, and it works by comparing your model's predictions to just guessing (i.e. using the mean as a prediction).\n",
    "\n",
    "The visualisation below shows the spread of our data from earlier with the red line showing the mean as a predictor, and the purple line showing our model as a predictor. Which seems to explain the data better?"
   ]
  },
  {
   "cell_type": "code",
   "execution_count": 45,
   "metadata": {},
   "outputs": [
    {
     "data": {
      "image/png": "[encoded data removed]",
      "text/plain": [
       "<Figure size 864x576 with 1 Axes>"
      ]
     },
     "metadata": {
      "needs_background": "light"
     },
     "output_type": "display_data"
    }
   ],
   "source": [
    "fig, ax = plt.subplots(figsize=(12, 8))\n",
    "\n",
    "ax.plot(college.Expend, college['Grad.Rate'], '.')\n",
    "ax.hlines(college['Grad.Rate'].mean(), xmin=0,\n",
    "          xmax=60000, color='r', label='mean')\n",
    "X_plot = np.linspace(0, 60000, 200)\n",
    "ax.plot(X_plot, X_plot*lr.coef_[0]+lr.intercept_,\n",
    "        color='purple', label='regression line')\n",
    "ax.legend()\n",
    "ax.set_title('Comparing mean and model as a predictor')\n",
    "ax.set_xlabel('Expenditure per student ($)')\n",
    "ax.set_ylabel('Graduation Rate (%)')\n",
    "plt.show()"
   ]
  },
  {
   "cell_type": "markdown",
   "metadata": {},
   "source": [
    "r-squared work using by comparing the total squared error of using your model (<b>RSS</b> - <i>residual sum of squares</i>) against the total squared error of using the mean (<b>TSS</b>- <i>total sum of squares</i>):\n",
    "\n",
    "<p style=font-size:24pt;text-allign:center>$R^2$= 1 -$\\frac{RSS}{TSS}$</p>\n",
    "\n",
    "In other words, it finds the ratio between the error from using the mean and using your model and subtracts it from 1. If our model is a significantly better estimator than using the mean then the r-squared will be close to 1. On the other hand, if the mean is a significantly better estimator then r-squared will be close to 0 (if not lower).\n",
    "\n",
    "Thankfully, to save us from having to do this manually sklearn has an inbuilt function that will do this for us called `.score()`. To use this function you need to pass in your predictor matrix and target series:"
   ]
  },
  {
   "cell_type": "code",
   "execution_count": 46,
   "metadata": {},
   "outputs": [
    {
     "data": {
      "text/plain": [
       "0.15543190004469465"
      ]
     },
     "execution_count": 46,
     "metadata": {},
     "output_type": "execute_result"
    }
   ],
   "source": [
    "lr.score(X,y)"
   ]
  },
  {
   "cell_type": "markdown",
   "metadata": {},
   "source": [
    "But is this score any good?\n",
    "\n",
    "It depends on the context. In this situation we would read this as: 15.5% of the variance in graduation rates can be explained by using expenditure per student as a predictor. That means 84.5% of the differences between graduation rates are unexplained by this model. \n",
    "\n",
    "This means that this model is not particularly good for predicting future graduation rates, but does give us some context our college expenditure- it explains 15.5% of the difference in graduation rates between colleges. \n",
    "\n",
    "In real world scenarios there can be hundreds of factors that can explain a result, many of which won't have been captured in the data, so a score of 0.155 may not be that bad. However, if it is a controlled experiment where there is only one or two factors that can explain the result, and you get a score of 0.155 that would be pretty terrible. \n",
    "\n",
    "On top of this, you should be skeptical about any model with high r-squared scores. It probably means your model is over-fitting (explaining the data too well) and won't work with new data."
   ]
  },
  {
   "cell_type": "code",
   "execution_count": 3,
   "metadata": {},
   "outputs": [],
   "source": [
    "# Calculate and interpret the r-squared for the second model, does it perform better or worse than the first?\n",
    "\n"
   ]
  },
  {
   "cell_type": "markdown",
   "metadata": {},
   "source": [
    "Click to reveal\n",
    "\n",
    "<p style=color:white> 0.26 -> performs better </p>"
   ]
  },
  {
   "cell_type": "markdown",
   "metadata": {},
   "source": [
    "### Practice\n",
    "\n",
    "Calculate RMSE, MAE and r-squared for both models you built for predicting house sale price, which one performs best?"
   ]
  },
  {
   "cell_type": "code",
   "execution_count": null,
   "metadata": {},
   "outputs": [],
   "source": []
  },
  {
   "cell_type": "markdown",
   "metadata": {},
   "source": [
    "## Validating our model\n",
    "\n",
    "So far we have built our models using all of our available data, but this creates an issue- how do we know if the model will perform just as well on new data?\n",
    "\n",
    "Not knowing this means we could have an issue with overfitting (where our model fits too well to our data, but not anything new) or underfitting (where our model doesn't fit well at all). \n",
    "\n",
    "To know this we need new data to test our model on, but where is it going to come from?\n",
    "\n",
    "We take it from our data. Before we build our model we remove a testing set (usually 20%) and put it to the side. We then build the model with the remaining 80% (training set) and see how it performs. We then <b>test</b> it with the other 20% and compare the results. As the model has not seen the heldback data we can observe how it reacts to something new, and then compare the results.\n",
    "\n",
    "If our model performs much worse on the new data we know that it has overfit. If it performs roughly the same then our model is fitting appropriately.\n",
    "\n",
    "Let's see how we perform this process:"
   ]
  },
  {
   "cell_type": "code",
   "execution_count": 48,
   "metadata": {},
   "outputs": [],
   "source": [
    "# import train_test_split- a function that will divide up our data\n",
    "\n",
    "from sklearn.model_selection import train_test_split"
   ]
  },
  {
   "cell_type": "markdown",
   "metadata": {},
   "source": [
    "`train_test_split` takes two inputs - a predictor matrix and target series. We will also need to define how big the test set should be (usually 20%). The function then has four outputs - a predictor matrix and target series for training, and a predictor matrix and target series for testing."
   ]
  },
  {
   "cell_type": "code",
   "execution_count": 49,
   "metadata": {},
   "outputs": [],
   "source": [
    "X_train, X_test, y_train, y_test = train_test_split(X,y,train_size=0.8,random_state=100)"
   ]
  },
  {
   "cell_type": "markdown",
   "metadata": {},
   "source": [
    "You may have noticed the argument `random_state`. This has been included to ensure that the train_test_split picks the same data in each set each time the code is run. You don't always need to do this, but it has been included so everyone using these notebooks get the same output when running the code."
   ]
  },
  {
   "cell_type": "code",
   "execution_count": 50,
   "metadata": {},
   "outputs": [
    {
     "data": {
      "text/plain": [
       "LinearRegression()"
      ]
     },
     "execution_count": 50,
     "metadata": {},
     "output_type": "execute_result"
    }
   ],
   "source": [
    "# build model with training data\n",
    "\n",
    "lr3=LinearRegression()\n",
    "lr3.fit(X_train,y_train)"
   ]
  },
  {
   "cell_type": "code",
   "execution_count": 51,
   "metadata": {},
   "outputs": [
    {
     "name": "stdout",
     "output_type": "stream",
     "text": [
      "Training score: 0.2702260283536131\n",
      "Testing score: 0.19404589966276342\n"
     ]
    }
   ],
   "source": [
    "# Compare r-squared scores\n",
    "\n",
    "print('Training score: ' + str(lr3.score(X_train,y_train)))\n",
    "print('Testing score: ' + str(lr3.score(X_test,y_test)))"
   ]
  },
  {
   "cell_type": "markdown",
   "metadata": {},
   "source": [
    "As both scores are similar we can say that our model is neither over or under fitting."
   ]
  },
  {
   "cell_type": "markdown",
   "metadata": {},
   "source": [
    "## Practice"
   ]
  },
  {
   "cell_type": "markdown",
   "metadata": {},
   "source": [
    "Use the train_test_split function to create a training and testing set for your first housing model. Rebuild the model with your training data and test it with the testing data. Does it fit the data well?"
   ]
  },
  {
   "cell_type": "code",
   "execution_count": null,
   "metadata": {},
   "outputs": [],
   "source": []
  },
  {
   "cell_type": "markdown",
   "metadata": {},
   "source": [
    "## Practice"
   ]
  },
  {
   "cell_type": "markdown",
   "metadata": {},
   "source": [
    "Build a third model that predicts house prices in Ames using any combination of features you would like (hint: check your results from your exploratory data analysis). Use train_test_split to create a training set to build the model and a testing set to evaluate it. Use RMSE, MAE and r-squared to evaluate your model- does it perform better than the other tewo you built?"
   ]
  },
  {
   "cell_type": "code",
   "execution_count": 10,
   "metadata": {},
   "outputs": [],
   "source": [
    "#A:"
   ]
  }
 ],
 "metadata": {
  "kernelspec": {
   "display_name": "Python 3",
   "language": "python",
   "name": "python3"
  },
  "language_info": {
   "codemirror_mode": {
    "name": "ipython",
    "version": 3
   },
   "file_extension": ".py",
   "mimetype": "text/x-python",
   "name": "python",
   "nbconvert_exporter": "python",
   "pygments_lexer": "ipython3",
   "version": "3.8.5"
  }
 },
 "nbformat": 4,
 "nbformat_minor": 4
}
